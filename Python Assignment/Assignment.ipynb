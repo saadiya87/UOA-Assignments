{
 "cells": [
  {
   "cell_type": "code",
   "execution_count": 1,
   "id": "bc2a42f7",
   "metadata": {},
   "outputs": [],
   "source": [
    "# Price Data\n",
    "\n",
    "item_dict = {'almonds': 6,\n",
    " 'antioxidant juice': 9,\n",
    " 'avocado': 1,\n",
    " 'black tea': 4,\n",
    " 'burgers': 4,\n",
    " 'champagne': 3,\n",
    " 'chicken': 4,\n",
    " 'chocolate': 7,\n",
    " 'chutney': 7,\n",
    " 'cookies': 7,\n",
    " 'cooking oil': 7,\n",
    " 'cottage cheese': 9,\n",
    " 'eggs': 9,\n",
    " 'energy bar': 9,\n",
    " 'energy drink': 3,\n",
    " 'extra dark chocolate': 8,\n",
    " 'french fries': 7,\n",
    " 'fresh tuna': 9,\n",
    " 'frozen smoothie': 7,\n",
    " 'frozen vegetables': 2,\n",
    " 'green grapes': 8,\n",
    " 'green tea': 8,\n",
    " 'honey': 9,\n",
    " 'light cream': 5,\n",
    " 'low fat yogurt': 4,\n",
    " 'meatballs': 9,\n",
    " 'milk': 5,\n",
    " 'mineral water': 2,\n",
    " 'oil': 9,\n",
    " 'olive oil': 8,\n",
    " 'pet food': 3,\n",
    " 'protein bar': 1,\n",
    " 'salad': 7,\n",
    " 'salmon': 3,\n",
    " 'shallot': 6,\n",
    " 'shrimp': 2,\n",
    " 'soup': 2,\n",
    " 'spaghetti': 6,\n",
    " 'spinach': 7,\n",
    " 'tomato juice': 8,\n",
    " 'tomatoes': 5,\n",
    " 'turkey': 8,\n",
    " 'vegetables mix': 3,\n",
    " 'whole wheat flour': 5,\n",
    " 'whole wheat pasta': 5,\n",
    " 'whole wheat rice': 4,\n",
    " 'yams': 7}"
   ]
  },
  {
   "cell_type": "code",
   "execution_count": 2,
   "id": "12e7a7b0",
   "metadata": {},
   "outputs": [],
   "source": [
    "# transaction data\n",
    "\n",
    "transaction_data = \\\n",
    "[['shrimp', 'almonds', 'avocado', 'vegetables mix', 'green grapes', 'whole wheat flour', 'yams', 'cottage cheese', 'energy drink', 'tomato juice', 'low fat yogurt', 'green tea', 'honey', 'salad', 'mineral water', 'salmon', 'antioxidant juice', 'frozen smoothie', 'spinach', 'olive oil'],\n",
    "['burgers', 'meatballs', 'eggs'],\n",
    "['chutney'],\n",
    "['turkey', 'avocado'],\n",
    "['mineral water', 'milk', 'energy bar', 'whole wheat rice', 'green tea'],\n",
    "['low fat yogurt'],\n",
    "['whole wheat pasta', 'french fries'],\n",
    "['soup', 'light cream', 'shallot'],\n",
    "['frozen vegetables', 'spaghetti', 'green tea'],\n",
    "['french fries'],\n",
    "['eggs', 'pet food'],\n",
    "['cookies'],\n",
    "['turkey', 'burgers', 'mineral water', 'eggs', 'cooking oil'],\n",
    "['spaghetti', 'champagne', 'cookies'],\n",
    "['mineral water', 'salmon'],\n",
    "['mineral water'],\n",
    "['shrimp', 'chocolate', 'chicken', 'honey', 'oil', 'cooking oil', 'low fat yogurt'],\n",
    "['turkey', 'eggs'],\n",
    "['turkey', 'fresh tuna', 'tomatoes', 'spaghetti', 'mineral water', 'black tea', 'salmon', 'eggs', 'chicken', 'extra dark chocolate'],\n",
    "['meatballs', 'milk', 'honey', 'french fries', 'protein bar']]"
   ]
  },
  {
   "cell_type": "code",
   "execution_count": 3,
   "id": "5b80dbb2",
   "metadata": {},
   "outputs": [
    {
     "data": {
      "text/plain": [
       "{'almonds': 6,\n",
       " 'antioxidant juice': 9,\n",
       " 'avocado': 1,\n",
       " 'black tea': 4,\n",
       " 'burgers': 4,\n",
       " 'champagne': 3,\n",
       " 'chicken': 4,\n",
       " 'chocolate': 7,\n",
       " 'chutney': 7,\n",
       " 'cookies': 7,\n",
       " 'cooking oil': 7,\n",
       " 'cottage cheese': 9,\n",
       " 'eggs': 9,\n",
       " 'energy bar': 9,\n",
       " 'energy drink': 3,\n",
       " 'extra dark chocolate': 8,\n",
       " 'french fries': 7,\n",
       " 'fresh tuna': 9,\n",
       " 'frozen smoothie': 7,\n",
       " 'frozen vegetables': 2,\n",
       " 'green grapes': 8,\n",
       " 'green tea': 8,\n",
       " 'honey': 9,\n",
       " 'light cream': 5,\n",
       " 'low fat yogurt': 4,\n",
       " 'meatballs': 9,\n",
       " 'milk': 5,\n",
       " 'mineral water': 2,\n",
       " 'oil': 9,\n",
       " 'olive oil': 8,\n",
       " 'pet food': 3,\n",
       " 'protein bar': 1,\n",
       " 'salad': 7,\n",
       " 'salmon': 3,\n",
       " 'shallot': 6,\n",
       " 'shrimp': 2,\n",
       " 'soup': 2,\n",
       " 'spaghetti': 6,\n",
       " 'spinach': 7,\n",
       " 'tomato juice': 8,\n",
       " 'tomatoes': 5,\n",
       " 'turkey': 8,\n",
       " 'vegetables mix': 3,\n",
       " 'whole wheat flour': 5,\n",
       " 'whole wheat pasta': 5,\n",
       " 'whole wheat rice': 4,\n",
       " 'yams': 7}"
      ]
     },
     "execution_count": 3,
     "metadata": {},
     "output_type": "execute_result"
    }
   ],
   "source": [
    "cost_dict = item_dict.copy()\n",
    "cost_dict"
   ]
  },
  {
   "cell_type": "markdown",
   "id": "1875fa1d",
   "metadata": {},
   "source": [
    "# Q1. Based on customer demand, items keep changing in the store. Your first task is to create a function that lets the admin add or remove items from the store directory(Cost dictionary)."
   ]
  },
  {
   "cell_type": "markdown",
   "id": "e91de121",
   "metadata": {},
   "source": [
    "1. Find how many unique items are present in the data?  "
   ]
  },
  {
   "cell_type": "code",
   "execution_count": 4,
   "id": "706cfa75",
   "metadata": {},
   "outputs": [
    {
     "name": "stdout",
     "output_type": "stream",
     "text": [
      "No of unique items are: 47\n"
     ]
    }
   ],
   "source": [
    "#unique items in a dictionary can be found by its length\n",
    "print(\"No of unique items are:\", len(item_dict))"
   ]
  },
  {
   "cell_type": "code",
   "execution_count": 5,
   "id": "04541ad2",
   "metadata": {},
   "outputs": [
    {
     "name": "stdout",
     "output_type": "stream",
     "text": [
      "No of unique items are: 47\n"
     ]
    }
   ],
   "source": [
    "#alternate method-by traversing the dictionary\n",
    "l1 = []\n",
    "count = 0\n",
    "for item in item_dict:\n",
    "    if item not in l1:\n",
    "        count += 1\n",
    "        l1.append(item)\n",
    "\n",
    "print(\"No of unique items are:\", count)"
   ]
  },
  {
   "cell_type": "markdown",
   "id": "9a7de7a1",
   "metadata": {},
   "source": [
    "2. Find the total number of transactions?"
   ]
  },
  {
   "cell_type": "code",
   "execution_count": 6,
   "id": "1c65cfb4",
   "metadata": {},
   "outputs": [
    {
     "name": "stdout",
     "output_type": "stream",
     "text": [
      "Total number of transactions is 20\n"
     ]
    }
   ],
   "source": [
    "#total number of transaction can be found by its length\n",
    "print(\"Total number of transactions is\", len(transaction_data))"
   ]
  },
  {
   "cell_type": "markdown",
   "id": "e6124bdb",
   "metadata": {},
   "source": [
    "3. Add items, try adding the item “banana” in stores. The cost of this item is $5. Add the item “banana” to the Cost dictionary. "
   ]
  },
  {
   "cell_type": "code",
   "execution_count": 7,
   "id": "e003f63c",
   "metadata": {},
   "outputs": [
    {
     "data": {
      "text/plain": [
       "{'almonds': 6,\n",
       " 'antioxidant juice': 9,\n",
       " 'avocado': 1,\n",
       " 'black tea': 4,\n",
       " 'burgers': 4,\n",
       " 'champagne': 3,\n",
       " 'chicken': 4,\n",
       " 'chocolate': 7,\n",
       " 'chutney': 7,\n",
       " 'cookies': 7,\n",
       " 'cooking oil': 7,\n",
       " 'cottage cheese': 9,\n",
       " 'eggs': 9,\n",
       " 'energy bar': 9,\n",
       " 'energy drink': 3,\n",
       " 'extra dark chocolate': 8,\n",
       " 'french fries': 7,\n",
       " 'fresh tuna': 9,\n",
       " 'frozen smoothie': 7,\n",
       " 'frozen vegetables': 2,\n",
       " 'green grapes': 8,\n",
       " 'green tea': 8,\n",
       " 'honey': 9,\n",
       " 'light cream': 5,\n",
       " 'low fat yogurt': 4,\n",
       " 'meatballs': 9,\n",
       " 'milk': 5,\n",
       " 'mineral water': 2,\n",
       " 'oil': 9,\n",
       " 'olive oil': 8,\n",
       " 'pet food': 3,\n",
       " 'protein bar': 1,\n",
       " 'salad': 7,\n",
       " 'salmon': 3,\n",
       " 'shallot': 6,\n",
       " 'shrimp': 2,\n",
       " 'soup': 2,\n",
       " 'spaghetti': 6,\n",
       " 'spinach': 7,\n",
       " 'tomato juice': 8,\n",
       " 'tomatoes': 5,\n",
       " 'turkey': 8,\n",
       " 'vegetables mix': 3,\n",
       " 'whole wheat flour': 5,\n",
       " 'whole wheat pasta': 5,\n",
       " 'whole wheat rice': 4,\n",
       " 'yams': 7,\n",
       " 'banana': 5}"
      ]
     },
     "execution_count": 7,
     "metadata": {},
     "output_type": "execute_result"
    }
   ],
   "source": [
    "#adding new item to cost dictionary\n",
    "cost_dict['banana'] = 5\n",
    "cost_dict"
   ]
  },
  {
   "cell_type": "markdown",
   "id": "21ada8d0",
   "metadata": {},
   "source": [
    "4. Use a function named add_item( ) to automatically add an item to the Cost dictionary given its name and price."
   ]
  },
  {
   "cell_type": "code",
   "execution_count": 8,
   "id": "6eee25d8",
   "metadata": {},
   "outputs": [],
   "source": [
    "#function to add new items to cost dictionary given its name and price\n",
    "def add_item(dict_name,name,price):\n",
    "    dict_name[name] = price\n",
    "    return dict_name"
   ]
  },
  {
   "cell_type": "code",
   "execution_count": 9,
   "id": "1209abd1",
   "metadata": {},
   "outputs": [
    {
     "data": {
      "text/plain": [
       "{'almonds': 6,\n",
       " 'antioxidant juice': 9,\n",
       " 'avocado': 1,\n",
       " 'black tea': 4,\n",
       " 'burgers': 4,\n",
       " 'champagne': 3,\n",
       " 'chicken': 4,\n",
       " 'chocolate': 7,\n",
       " 'chutney': 7,\n",
       " 'cookies': 7,\n",
       " 'cooking oil': 7,\n",
       " 'cottage cheese': 9,\n",
       " 'eggs': 9,\n",
       " 'energy bar': 9,\n",
       " 'energy drink': 3,\n",
       " 'extra dark chocolate': 8,\n",
       " 'french fries': 7,\n",
       " 'fresh tuna': 9,\n",
       " 'frozen smoothie': 7,\n",
       " 'frozen vegetables': 2,\n",
       " 'green grapes': 8,\n",
       " 'green tea': 8,\n",
       " 'honey': 9,\n",
       " 'light cream': 5,\n",
       " 'low fat yogurt': 4,\n",
       " 'meatballs': 9,\n",
       " 'milk': 5,\n",
       " 'mineral water': 2,\n",
       " 'oil': 9,\n",
       " 'olive oil': 8,\n",
       " 'pet food': 3,\n",
       " 'protein bar': 1,\n",
       " 'salad': 7,\n",
       " 'salmon': 3,\n",
       " 'shallot': 6,\n",
       " 'shrimp': 2,\n",
       " 'soup': 2,\n",
       " 'spaghetti': 6,\n",
       " 'spinach': 7,\n",
       " 'tomato juice': 8,\n",
       " 'tomatoes': 5,\n",
       " 'turkey': 8,\n",
       " 'vegetables mix': 3,\n",
       " 'whole wheat flour': 5,\n",
       " 'whole wheat pasta': 5,\n",
       " 'whole wheat rice': 4,\n",
       " 'yams': 7,\n",
       " 'banana': 5,\n",
       " 'red banana': 5}"
      ]
     },
     "execution_count": 9,
     "metadata": {},
     "output_type": "execute_result"
    }
   ],
   "source": [
    "#driver code for add_item() function with an example\n",
    "add_item(cost_dict, 'red banana', 5)"
   ]
  },
  {
   "cell_type": "markdown",
   "id": "5d715e72",
   "metadata": {},
   "source": [
    "5. Remove an item: for example: if the customers at Walmart do not seem to be purchasing “banana,” and the store decides to discontinue this item. The function to should be able to remove the item “banana” from the Cost dictionary"
   ]
  },
  {
   "cell_type": "code",
   "execution_count": 10,
   "id": "93669300",
   "metadata": {},
   "outputs": [
    {
     "data": {
      "text/plain": [
       "{'almonds': 6,\n",
       " 'antioxidant juice': 9,\n",
       " 'avocado': 1,\n",
       " 'black tea': 4,\n",
       " 'burgers': 4,\n",
       " 'champagne': 3,\n",
       " 'chicken': 4,\n",
       " 'chocolate': 7,\n",
       " 'chutney': 7,\n",
       " 'cookies': 7,\n",
       " 'cooking oil': 7,\n",
       " 'cottage cheese': 9,\n",
       " 'eggs': 9,\n",
       " 'energy bar': 9,\n",
       " 'energy drink': 3,\n",
       " 'extra dark chocolate': 8,\n",
       " 'french fries': 7,\n",
       " 'fresh tuna': 9,\n",
       " 'frozen smoothie': 7,\n",
       " 'frozen vegetables': 2,\n",
       " 'green grapes': 8,\n",
       " 'green tea': 8,\n",
       " 'honey': 9,\n",
       " 'light cream': 5,\n",
       " 'low fat yogurt': 4,\n",
       " 'meatballs': 9,\n",
       " 'milk': 5,\n",
       " 'mineral water': 2,\n",
       " 'oil': 9,\n",
       " 'olive oil': 8,\n",
       " 'pet food': 3,\n",
       " 'protein bar': 1,\n",
       " 'salad': 7,\n",
       " 'salmon': 3,\n",
       " 'shallot': 6,\n",
       " 'shrimp': 2,\n",
       " 'soup': 2,\n",
       " 'spaghetti': 6,\n",
       " 'spinach': 7,\n",
       " 'tomato juice': 8,\n",
       " 'tomatoes': 5,\n",
       " 'turkey': 8,\n",
       " 'vegetables mix': 3,\n",
       " 'whole wheat flour': 5,\n",
       " 'whole wheat pasta': 5,\n",
       " 'whole wheat rice': 4,\n",
       " 'yams': 7,\n",
       " 'red banana': 5}"
      ]
     },
     "execution_count": 10,
     "metadata": {},
     "output_type": "execute_result"
    }
   ],
   "source": [
    "#deleting an item\n",
    "del cost_dict['banana']\n",
    "cost_dict"
   ]
  },
  {
   "cell_type": "markdown",
   "id": "5c248a82",
   "metadata": {},
   "source": [
    "Create a function called remove_item( ) to automatically remove an item from the Cost dictionary given its name."
   ]
  },
  {
   "cell_type": "code",
   "execution_count": 11,
   "id": "84d49ec4",
   "metadata": {},
   "outputs": [],
   "source": [
    "#function to remove item from cost dictionary\n",
    "def remove_item(dict_name,prod):\n",
    "    del dict_name[prod]\n",
    "    return dict_name"
   ]
  },
  {
   "cell_type": "code",
   "execution_count": 12,
   "id": "d5867d32",
   "metadata": {
    "scrolled": true
   },
   "outputs": [
    {
     "data": {
      "text/plain": [
       "{'almonds': 6,\n",
       " 'antioxidant juice': 9,\n",
       " 'avocado': 1,\n",
       " 'black tea': 4,\n",
       " 'burgers': 4,\n",
       " 'champagne': 3,\n",
       " 'chicken': 4,\n",
       " 'chocolate': 7,\n",
       " 'chutney': 7,\n",
       " 'cookies': 7,\n",
       " 'cooking oil': 7,\n",
       " 'cottage cheese': 9,\n",
       " 'eggs': 9,\n",
       " 'energy bar': 9,\n",
       " 'energy drink': 3,\n",
       " 'extra dark chocolate': 8,\n",
       " 'french fries': 7,\n",
       " 'fresh tuna': 9,\n",
       " 'frozen smoothie': 7,\n",
       " 'frozen vegetables': 2,\n",
       " 'green grapes': 8,\n",
       " 'green tea': 8,\n",
       " 'honey': 9,\n",
       " 'light cream': 5,\n",
       " 'low fat yogurt': 4,\n",
       " 'meatballs': 9,\n",
       " 'milk': 5,\n",
       " 'mineral water': 2,\n",
       " 'oil': 9,\n",
       " 'olive oil': 8,\n",
       " 'pet food': 3,\n",
       " 'protein bar': 1,\n",
       " 'salad': 7,\n",
       " 'salmon': 3,\n",
       " 'shallot': 6,\n",
       " 'shrimp': 2,\n",
       " 'soup': 2,\n",
       " 'spaghetti': 6,\n",
       " 'spinach': 7,\n",
       " 'tomato juice': 8,\n",
       " 'tomatoes': 5,\n",
       " 'turkey': 8,\n",
       " 'vegetables mix': 3,\n",
       " 'whole wheat flour': 5,\n",
       " 'whole wheat pasta': 5,\n",
       " 'whole wheat rice': 4,\n",
       " 'yams': 7}"
      ]
     },
     "execution_count": 12,
     "metadata": {},
     "output_type": "execute_result"
    }
   ],
   "source": [
    "#drivers code for remove_item() function\n",
    "remove_item(cost_dict, 'red banana')"
   ]
  },
  {
   "cell_type": "markdown",
   "id": "43c2b901",
   "metadata": {},
   "source": [
    "# Q2. Once a customer has completed shopping, they need to be billed for the total amount of all the items. This can be done automatically by swiping each item’s barcode on a checkout system. Your second task is to build the software underlying the checkout system, which finds the total cost of all the items in a customer’s cart, including taxes:"
   ]
  },
  {
   "cell_type": "markdown",
   "id": "d4cd90b2",
   "metadata": {},
   "source": [
    "1. Write the code, to find the price of an item from the cost dictionary\n",
    "\n",
    "    Find the price of salmon from the cost dictionary"
   ]
  },
  {
   "cell_type": "code",
   "execution_count": 13,
   "id": "fe3c4dd1",
   "metadata": {},
   "outputs": [
    {
     "name": "stdout",
     "output_type": "stream",
     "text": [
      "Enter the item name : salmon\n",
      "Price of salmon is 3\n"
     ]
    }
   ],
   "source": [
    "#to find cost of user input item from cost dictionary\n",
    "x = input(\"Enter the item name : \") #taking item name as input from user\n",
    "print(\"Price of {0} is {1}\".format(x,cost_dict[x]))"
   ]
  },
  {
   "cell_type": "code",
   "execution_count": 14,
   "id": "805ab452",
   "metadata": {},
   "outputs": [
    {
     "data": {
      "text/plain": [
       "3"
      ]
     },
     "execution_count": 14,
     "metadata": {},
     "output_type": "execute_result"
    }
   ],
   "source": [
    "# alternate method\n",
    "cost_dict['salmon']"
   ]
  },
  {
   "cell_type": "markdown",
   "id": "8cd4cf0d",
   "metadata": {},
   "source": [
    "2. Write a code that helps the administrator find any particular transaction in the sequence\n",
    "\n",
    "    Try finding the ninth transaction from the data"
   ]
  },
  {
   "cell_type": "code",
   "execution_count": 15,
   "id": "fb95b470",
   "metadata": {},
   "outputs": [
    {
     "name": "stdout",
     "output_type": "stream",
     "text": [
      "Enter the transaction number : 9\n",
      "transaction number 9 is ['frozen vegetables', 'spaghetti', 'green tea']\n"
     ]
    }
   ],
   "source": [
    "#to find the items in user input transaction number\n",
    "x = int(input(\"Enter the transaction number : \")) #taking transaction number as input from user\n",
    "print(\"transaction number {0} is {1}\".format(x,transaction_data[x-1]))"
   ]
  },
  {
   "cell_type": "code",
   "execution_count": 16,
   "id": "25a05549",
   "metadata": {},
   "outputs": [
    {
     "data": {
      "text/plain": [
       "['frozen vegetables', 'spaghetti', 'green tea']"
      ]
     },
     "execution_count": 16,
     "metadata": {},
     "output_type": "execute_result"
    }
   ],
   "source": [
    "#alternate method\n",
    "transaction_data[8]"
   ]
  },
  {
   "cell_type": "markdown",
   "id": "e7c189a6",
   "metadata": {},
   "source": [
    "3. How many items are present in the ninth transaction?"
   ]
  },
  {
   "cell_type": "code",
   "execution_count": 17,
   "id": "5a66f1cf",
   "metadata": {},
   "outputs": [
    {
     "name": "stdout",
     "output_type": "stream",
     "text": [
      "Enter the transaction number : 9\n",
      "Total number of items in transaction number 9 is 3 \n"
     ]
    }
   ],
   "source": [
    "#to find the number of items in user input transaction number\n",
    "x = int(input(\"Enter the transaction number : \")) #taking transaction number as input from user\n",
    "print(\"Total number of items in transaction number {0} is {1} \".format(x,len(transaction_data[x-1])))"
   ]
  },
  {
   "cell_type": "code",
   "execution_count": 18,
   "id": "5eb57cde",
   "metadata": {},
   "outputs": [
    {
     "data": {
      "text/plain": [
       "3"
      ]
     },
     "execution_count": 18,
     "metadata": {},
     "output_type": "execute_result"
    }
   ],
   "source": [
    "#alternate method\n",
    "len(transaction_data[8])"
   ]
  },
  {
   "cell_type": "markdown",
   "id": "40a0bbeb",
   "metadata": {},
   "source": [
    "4. Find the total cost of the ninth transaction from the array of transactions."
   ]
  },
  {
   "cell_type": "code",
   "execution_count": 19,
   "id": "bfbfcd65",
   "metadata": {},
   "outputs": [
    {
     "name": "stdout",
     "output_type": "stream",
     "text": [
      "Enter the transaction number : 9\n",
      "Total cost of transaction number 9 is 16\n"
     ]
    }
   ],
   "source": [
    "#function to find total cost of user input transaction number\n",
    "d = {} #creating empty dictionary\n",
    "for i in range(len(transaction_data)):#looping through transaction data\n",
    "    total = 0\n",
    "    for j in transaction_data[i]:\n",
    "        total+= item_dict[j]\n",
    "    d[i+1] = total\n",
    "\n",
    "x = int(input(\"Enter the transaction number : \")) #taking transaction number input from user\n",
    "print(\"Total cost of transaction number {0} is {1}\".format(x,d[x]))"
   ]
  },
  {
   "cell_type": "markdown",
   "id": "82826486",
   "metadata": {},
   "source": [
    "5. As per government guidelines, a mandatory 5% tax is applied to the total cost of a transaction. Find the final price of the second transaction after applicable taxes have been implemented."
   ]
  },
  {
   "cell_type": "code",
   "execution_count": 33,
   "id": "fc6f5540",
   "metadata": {},
   "outputs": [
    {
     "name": "stdout",
     "output_type": "stream",
     "text": [
      "Enter the transaction number : 2\n",
      "Final cost of transaction number 2 after tax is 23.1\n"
     ]
    }
   ],
   "source": [
    "#function to find final cost of user input transaction number\n",
    "d = {} #creating empty dictionary\n",
    "for i in range(len(transaction_data)):   #looping through the transaction data\n",
    "    total = 0\n",
    "    for j in transaction_data[i]:\n",
    "        total+= item_dict[j]\n",
    "    d[i+1] = total\n",
    "\n",
    "\n",
    "x = int(input(\"Enter the transaction number : \")) #take transaction number as input from user\n",
    "t = d[x]\n",
    "tax = 5\n",
    "f = t + ((tax*t)/100) #formula to add tax to the cost\n",
    "print(\"Final cost of transaction number {0} after tax is {1}\".format(x,f))"
   ]
  },
  {
   "cell_type": "markdown",
   "id": "f5c0d339",
   "metadata": {},
   "source": [
    "6. Create a function named find_total( ) to find the final price of any transaction after applicable taxes have been implemented."
   ]
  },
  {
   "cell_type": "code",
   "execution_count": 21,
   "id": "33293ce0",
   "metadata": {},
   "outputs": [
    {
     "name": "stdout",
     "output_type": "stream",
     "text": [
      "Final cost of transaction number 2 is 23.1\n"
     ]
    }
   ],
   "source": [
    "#function to find the final cost of user input transaction number\n",
    "def find_total(n):\n",
    "    d = {}\n",
    "    for i in range(len(transaction_data)):\n",
    "        total = 0\n",
    "        for j in transaction_data[i]:\n",
    "            total+= item_dict[j]\n",
    "        d[i+1] = total \n",
    "        \n",
    "    t = d[n]\n",
    "    f = t + ((5*t)/100)\n",
    "    print(\"Final cost of transaction number {0} is {1}\".format(n,f))\n",
    "\n",
    "#driver code for above function\n",
    "find_total(2)"
   ]
  },
  {
   "cell_type": "markdown",
   "id": "aacc91b5",
   "metadata": {},
   "source": [
    "# Q3. There is always a flow of items in and out of stores, which need to be tracked so that the store can place an order in case an item is running out of stock. Your third task is to build an inventory management system that will count the total number of items purchased from the transaction data. This inventory management system will go through each of the transactions one by one and increment the value for an item if it is found in a transaction."
   ]
  },
  {
   "cell_type": "markdown",
   "id": "defcc66c",
   "metadata": {},
   "source": [
    "1. What is the data structure that can be used to count the frequency of items purchased (from the transaction data)?"
   ]
  },
  {
   "cell_type": "markdown",
   "id": "3d4952b4",
   "metadata": {},
   "source": [
    "ANS: Data structure such as dictionary can be used"
   ]
  },
  {
   "cell_type": "markdown",
   "id": "41e31ccc",
   "metadata": {},
   "source": [
    "2. Create a frequency counter to count the number of items:\n",
    " "
   ]
  },
  {
   "cell_type": "code",
   "execution_count": 22,
   "id": "2da3dbe7",
   "metadata": {},
   "outputs": [
    {
     "name": "stdout",
     "output_type": "stream",
     "text": [
      "{'shrimp': 2, 'almonds': 1, 'avocado': 2, 'vegetables mix': 1, 'green grapes': 1, 'whole wheat flour': 1, 'yams': 1, 'cottage cheese': 1, 'energy drink': 1, 'tomato juice': 1, 'low fat yogurt': 3, 'green tea': 3, 'honey': 3, 'salad': 1, 'mineral water': 6, 'salmon': 3, 'antioxidant juice': 1, 'frozen smoothie': 1, 'spinach': 1, 'olive oil': 1, 'burgers': 2, 'meatballs': 2, 'eggs': 5, 'chutney': 1, 'turkey': 4, 'milk': 2, 'energy bar': 1, 'whole wheat rice': 1, 'whole wheat pasta': 1, 'french fries': 3, 'soup': 1, 'light cream': 1, 'shallot': 1, 'frozen vegetables': 1, 'spaghetti': 3, 'pet food': 1, 'cookies': 2, 'cooking oil': 2, 'champagne': 1, 'chocolate': 1, 'chicken': 2, 'oil': 1, 'fresh tuna': 1, 'tomatoes': 1, 'black tea': 1, 'extra dark chocolate': 1, 'protein bar': 1}\n"
     ]
    }
   ],
   "source": [
    "frequency_dict = {}  # creating the empty dictionary\n",
    "\n",
    "for transaction in transaction_data: # looping over each transaction\n",
    "    for item in transaction: # looping over each item present in the transaction\n",
    "        if item in frequency_dict.keys():\n",
    "            frequency_dict[item] +=1 # increment the frequency by 1 if the item is found in the dictionary\n",
    "        else:\n",
    "            frequency_dict[item] = 1 # create a new key with the item name if the item is found for the first time\n",
    "    \n",
    "    \n",
    "#printing the dictionary with frequency counter\n",
    "print(frequency_dict)"
   ]
  },
  {
   "cell_type": "markdown",
   "id": "0ce8208f",
   "metadata": {},
   "source": [
    "3. A new transaction has just been made. This transaction includes “honey,” “pet food,” and “shrimp.” Update the frequency counter to reflect this new transaction."
   ]
  },
  {
   "cell_type": "code",
   "execution_count": 23,
   "id": "999505c9",
   "metadata": {},
   "outputs": [
    {
     "name": "stdout",
     "output_type": "stream",
     "text": [
      "[['shrimp', 'almonds', 'avocado', 'vegetables mix', 'green grapes', 'whole wheat flour', 'yams', 'cottage cheese', 'energy drink', 'tomato juice', 'low fat yogurt', 'green tea', 'honey', 'salad', 'mineral water', 'salmon', 'antioxidant juice', 'frozen smoothie', 'spinach', 'olive oil'], ['burgers', 'meatballs', 'eggs'], ['chutney'], ['turkey', 'avocado'], ['mineral water', 'milk', 'energy bar', 'whole wheat rice', 'green tea'], ['low fat yogurt'], ['whole wheat pasta', 'french fries'], ['soup', 'light cream', 'shallot'], ['frozen vegetables', 'spaghetti', 'green tea'], ['french fries'], ['eggs', 'pet food'], ['cookies'], ['turkey', 'burgers', 'mineral water', 'eggs', 'cooking oil'], ['spaghetti', 'champagne', 'cookies'], ['mineral water', 'salmon'], ['mineral water'], ['shrimp', 'chocolate', 'chicken', 'honey', 'oil', 'cooking oil', 'low fat yogurt'], ['turkey', 'eggs'], ['turkey', 'fresh tuna', 'tomatoes', 'spaghetti', 'mineral water', 'black tea', 'salmon', 'eggs', 'chicken', 'extra dark chocolate'], ['meatballs', 'milk', 'honey', 'french fries', 'protein bar'], ['honey', 'pet food', 'shrimp']]\n"
     ]
    }
   ],
   "source": [
    "transaction_list = transaction_data.copy() #creating a copy of original list\n",
    "new_list = ['honey', 'pet food','shrimp']\n",
    "transaction_list.append(new_list) # appending the new transaction to the list\n",
    "print(transaction_list)"
   ]
  },
  {
   "cell_type": "code",
   "execution_count": 24,
   "id": "155473db",
   "metadata": {},
   "outputs": [
    {
     "name": "stdout",
     "output_type": "stream",
     "text": [
      "{'shrimp': 3, 'almonds': 1, 'avocado': 2, 'vegetables mix': 1, 'green grapes': 1, 'whole wheat flour': 1, 'yams': 1, 'cottage cheese': 1, 'energy drink': 1, 'tomato juice': 1, 'low fat yogurt': 3, 'green tea': 3, 'honey': 4, 'salad': 1, 'mineral water': 6, 'salmon': 3, 'antioxidant juice': 1, 'frozen smoothie': 1, 'spinach': 1, 'olive oil': 1, 'burgers': 2, 'meatballs': 2, 'eggs': 5, 'chutney': 1, 'turkey': 4, 'milk': 2, 'energy bar': 1, 'whole wheat rice': 1, 'whole wheat pasta': 1, 'french fries': 3, 'soup': 1, 'light cream': 1, 'shallot': 1, 'frozen vegetables': 1, 'spaghetti': 3, 'pet food': 2, 'cookies': 2, 'cooking oil': 2, 'champagne': 1, 'chocolate': 1, 'chicken': 2, 'oil': 1, 'fresh tuna': 1, 'tomatoes': 1, 'black tea': 1, 'extra dark chocolate': 1, 'protein bar': 1}\n"
     ]
    }
   ],
   "source": [
    "#function to update the frequency counter\n",
    "def update_counter():\n",
    "    frequency_dict = {}  # creating the empty dictionary\n",
    "    for transaction in transaction_list: # looping over each transaction\n",
    "        for item in transaction: # looping over each item present in the transaction\n",
    "            if item in frequency_dict:\n",
    "                frequency_dict[item] +=1 # increment the frequency by 1 if the item is found in the dictionary\n",
    "            else:\n",
    "                frequency_dict[item] = 1# create a new key with the item name if the item is found for the first time\n",
    "    \n",
    "    print(frequency_dict)\n",
    "\n",
    "update_counter() #calling the function"
   ]
  },
  {
   "cell_type": "markdown",
   "id": "dac31622",
   "metadata": {},
   "source": [
    "4. Create a function named update_counter( ) to automatically update the frequency counter in case any new transaction is made."
   ]
  },
  {
   "cell_type": "code",
   "execution_count": 25,
   "id": "9d182667",
   "metadata": {
    "scrolled": false
   },
   "outputs": [
    {
     "name": "stdout",
     "output_type": "stream",
     "text": [
      "{'shrimp': 3, 'almonds': 1, 'avocado': 2, 'vegetables mix': 1, 'green grapes': 1, 'whole wheat flour': 1, 'yams': 1, 'cottage cheese': 1, 'energy drink': 1, 'tomato juice': 1, 'low fat yogurt': 3, 'green tea': 3, 'honey': 4, 'salad': 1, 'mineral water': 6, 'salmon': 3, 'antioxidant juice': 1, 'frozen smoothie': 1, 'spinach': 1, 'olive oil': 1, 'burgers': 2, 'meatballs': 2, 'eggs': 5, 'chutney': 1, 'turkey': 4, 'milk': 2, 'energy bar': 1, 'whole wheat rice': 1, 'whole wheat pasta': 1, 'french fries': 3, 'soup': 1, 'light cream': 1, 'shallot': 1, 'frozen vegetables': 1, 'spaghetti': 3, 'pet food': 2, 'cookies': 2, 'cooking oil': 2, 'champagne': 1, 'chocolate': 1, 'chicken': 2, 'oil': 1, 'fresh tuna': 1, 'tomatoes': 1, 'black tea': 1, 'extra dark chocolate': 1, 'protein bar': 1}\n"
     ]
    }
   ],
   "source": [
    "#function to update counter\n",
    "def update_counter():\n",
    "    frequency_dict = {}  # creating the empty dictionary\n",
    "    for transaction in transaction_list: # looping over each transaction\n",
    "        for item in transaction: # looping over each item present in the transaction\n",
    "            if item in frequency_dict:\n",
    "                frequency_dict[item] +=1 # increment the frequency by 1 if the item is found in the dictionary\n",
    "            else:\n",
    "                frequency_dict[item] = 1# create a new key with the item name if the item is found for the first time\n",
    "    \n",
    "    print(frequency_dict)\n",
    "    \n",
    "\n",
    "#calling the function\n",
    "update_counter()"
   ]
  },
  {
   "cell_type": "code",
   "execution_count": 26,
   "id": "4492645a",
   "metadata": {},
   "outputs": [
    {
     "name": "stdout",
     "output_type": "stream",
     "text": [
      "{'shrimp': 2, 'almonds': 1, 'avocado': 2, 'vegetables mix': 1, 'green grapes': 1, 'whole wheat flour': 1, 'yams': 1, 'cottage cheese': 1, 'energy drink': 1, 'tomato juice': 1, 'low fat yogurt': 3, 'green tea': 3, 'honey': 3, 'salad': 1, 'mineral water': 6, 'salmon': 3, 'antioxidant juice': 1, 'frozen smoothie': 1, 'spinach': 1, 'olive oil': 1, 'burgers': 2, 'meatballs': 2, 'eggs': 5, 'chutney': 1, 'turkey': 4, 'milk': 2, 'energy bar': 1, 'whole wheat rice': 1, 'whole wheat pasta': 1, 'french fries': 3, 'soup': 1, 'light cream': 1, 'shallot': 1, 'frozen vegetables': 1, 'spaghetti': 3, 'pet food': 1, 'cookies': 2, 'cooking oil': 2, 'champagne': 1, 'chocolate': 1, 'chicken': 2, 'oil': 1, 'fresh tuna': 1, 'tomatoes': 1, 'black tea': 1, 'extra dark chocolate': 1, 'protein bar': 1, 'new item': 1}\n"
     ]
    }
   ],
   "source": [
    "#alternate method to update counter automatically when adding new transaction\n",
    "def add_transaction(transaction):\n",
    "    for item in transaction:\n",
    "            if item in frequency_dict:\n",
    "                frequency_dict[item] +=1 # increment the frequency by 1 if the item is found in the dictionary\n",
    "            else:\n",
    "                frequency_dict[item] = 1# create a new key with the item name if the item is found for the first time\n",
    "    print(frequency_dict)\n",
    "    \n",
    "#driver code for above function\n",
    "add_transaction(['new item'])"
   ]
  },
  {
   "cell_type": "markdown",
   "id": "cf587f70",
   "metadata": {},
   "source": [
    "# Q4. Walmart is running a discount week for Christmas! The sales manager has decided to keep a 20% discount on the top three selling items. Use the frequency counter that you created in Question 3 to solve this problem:"
   ]
  },
  {
   "cell_type": "markdown",
   "id": "00b03e32",
   "metadata": {},
   "source": [
    "1. What is the top-selling item?"
   ]
  },
  {
   "cell_type": "code",
   "execution_count": 27,
   "id": "6803faac",
   "metadata": {
    "scrolled": true
   },
   "outputs": [
    {
     "data": {
      "text/plain": [
       "[('mineral water', 6)]"
      ]
     },
     "execution_count": 27,
     "metadata": {},
     "output_type": "execute_result"
    }
   ],
   "source": [
    "# Create a list of tuples sorted using the inbuilt function    \n",
    "listofTuples = sorted(frequency_dict.items() , reverse=True, key=lambda x: x[1])[:1]\n",
    "\n",
    "listofTuples"
   ]
  },
  {
   "cell_type": "code",
   "execution_count": 28,
   "id": "b1def859",
   "metadata": {},
   "outputs": [
    {
     "name": "stdout",
     "output_type": "stream",
     "text": [
      "The sorted array is:  [3, 3, 3, 6, 3, 3, 5, 4, 2, 2, 2, 2, 2, 2, 3, 2, 1, 1, 1, 1, 1, 1, 1, 1, 1, 1, 1, 1, 1, 1, 1, 1, 1, 1, 1, 1, 1, 1, 1, 1, 2, 1, 1, 1, 1, 1, 1, 1]\n"
     ]
    }
   ],
   "source": [
    "#alternate method-by using sorting algorithm\n",
    "def selection_sort(array):  \n",
    "    length = len(array)  \n",
    "      \n",
    "    for i in range(length-1):  #looping through the length-1 of array\n",
    "        minIndex = i  \n",
    "          \n",
    "        for j in range(i+1, length):  \n",
    "            if array[minIndex] < array[j]:  \n",
    "                minIndex = j  \n",
    "                  \n",
    "            array[minIndex], array[i] = array[i], array[minIndex] \n",
    "          \n",
    "          \n",
    "    return array      \n",
    "\n",
    "array = list(frequency_dict.values())#dictionary values given as list input\n",
    "  \n",
    "print(\"The sorted array is: \", selection_sort(array))  #finding the max value from sorted array"
   ]
  },
  {
   "cell_type": "code",
   "execution_count": 29,
   "id": "9c35e5c4",
   "metadata": {},
   "outputs": [
    {
     "name": "stdout",
     "output_type": "stream",
     "text": [
      "Top selling item is mineral water\n"
     ]
    }
   ],
   "source": [
    "keys = list(frequency_dict.keys()) #creating a variable with list of keys of the dictionary\n",
    "vals = list(frequency_dict.values()) #creating a variable with list of values of the dictionary\n",
    "print(\"Top selling item is\",keys[vals.index(6)]) #printing the key for max value found by sorting"
   ]
  },
  {
   "cell_type": "markdown",
   "id": "0e559362",
   "metadata": {},
   "source": [
    "2. In real life, departmental stores have thousands of items and millions of transactions in their databases. In such situations, it becomes important to use an effective searching algorithm to navigate through the data. You need to sort the frequency counter dictionary by the value count(or the number of items). For example, if there are 3 apples, 5 bananas and 1 watermelon, the sorted list would be banana, apple, watermelon. So you need to sort the entire dictionary (with keys and values) based on the value count. Sort the frequency counter using the sorting algorithms provided in the table below. Additionally, for each of the sorting methods, leverage the time function in Python to see how many milliseconds it takes for an algorithm to sort items."
   ]
  },
  {
   "cell_type": "markdown",
   "id": "da5187d4",
   "metadata": {},
   "source": [
    "SELECTION SORT"
   ]
  },
  {
   "cell_type": "code",
   "execution_count": 30,
   "id": "5ce1f71e",
   "metadata": {},
   "outputs": [
    {
     "name": "stdout",
     "output_type": "stream",
     "text": [
      "The sorted array is:  [3, 3, 3, 6, 3, 3, 5, 4, 2, 2, 2, 2, 2, 2, 3, 2, 1, 1, 1, 1, 1, 1, 1, 1, 1, 1, 1, 1, 1, 1, 1, 1, 1, 1, 1, 1, 1, 1, 1, 1, 2, 1, 1, 1, 1, 1, 1, 1]\n"
     ]
    }
   ],
   "source": [
    "import time #package to determine the time utilized by the sorting algorithm\n",
    "\n",
    "t1 = time.time() #time before execution\n",
    "\n",
    "def selection_sort(array):  \n",
    "    length = len(array)  \n",
    "      \n",
    "    for i in range(length-1):  \n",
    "        minIndex = i  \n",
    "          \n",
    "        for j in range(i+1, length):  \n",
    "            if array[minIndex] < array[j]:  \n",
    "                minIndex = j  \n",
    "                  \n",
    "            array[minIndex], array[i] = array[i], array[minIndex] \n",
    "          \n",
    "          \n",
    "    return array      \n",
    "\n",
    "t2 = time.time() #time after execution\n",
    "array = list(frequency_dict.values())#dictionary values given as list input\n",
    "  \n",
    "print(\"The sorted array is: \", selection_sort(array))   #printing the sorted array"
   ]
  },
  {
   "cell_type": "code",
   "execution_count": 31,
   "id": "19a0a8ce",
   "metadata": {},
   "outputs": [
    {
     "name": "stdout",
     "output_type": "stream",
     "text": [
      "Top 3 items are : \n",
      "mineral water\n",
      "eggs\n",
      "turkey\n",
      "Time take by selection sort is  0.092983\n"
     ]
    }
   ],
   "source": [
    "keys = list(frequency_dict.keys()) #creating a variable with list of keys of the dictionary\n",
    "vals = list(frequency_dict.values()) #creating a variable with list of values of the dictionary\n",
    "print(\"Top 3 items are : \")\n",
    "print(keys[vals.index(6)])#printing top selling item\n",
    "print(keys[vals.index(5)])#printing top 2nd selling item\n",
    "print(keys[vals.index(4)])#printing top 3rd selling item\n",
    "\n",
    "total_time = (t2-t1)*1000 #formula to calculate time taken by algorithm\n",
    "print(\"Time take by selection sort is\"'{0:10f}'.format(total_time))"
   ]
  },
  {
   "cell_type": "markdown",
   "id": "516d77d0",
   "metadata": {},
   "source": [
    "INSERTION SORT"
   ]
  },
  {
   "cell_type": "code",
   "execution_count": 34,
   "id": "00c615d5",
   "metadata": {},
   "outputs": [
    {
     "name": "stdout",
     "output_type": "stream",
     "text": [
      "Sorted array is:  [6, 5, 4, 3, 3, 3, 3, 3, 3, 2, 2, 2, 2, 2, 2, 2, 2, 1, 1, 1, 1, 1, 1, 1, 1, 1, 1, 1, 1, 1, 1, 1, 1, 1, 1, 1, 1, 1, 1, 1, 1, 1, 1, 1, 1, 1, 1, 1]\n"
     ]
    }
   ],
   "source": [
    "t1 = time.time() #before execution\n",
    "def insertionSort(arr):\n",
    "  \n",
    "    # Traverse through 1 to len(arr)\n",
    "    for i in range(1, len(arr)):\n",
    "  \n",
    "        key = arr[i]\n",
    "  \n",
    "        # Move elements of arr[0..i-1], that are\n",
    "        # greater than key, to one position ahead\n",
    "        # of their current position\n",
    "        j = i-1\n",
    "        while j >= 0 and key > arr[j] :\n",
    "                arr[j + 1] = arr[j]\n",
    "                j -= 1\n",
    "        arr[j + 1] = key\n",
    "        \n",
    "        \n",
    "t2 = time.time() #after execution\n",
    "# Driver code to test above\n",
    "arr = list(frequency_dict.values()) #dictionary values given as list input\n",
    "insertionSort(arr) \n",
    "print(\"Sorted array is: \",arr)#printing the sorted array"
   ]
  },
  {
   "cell_type": "code",
   "execution_count": 35,
   "id": "8f336bd6",
   "metadata": {},
   "outputs": [
    {
     "name": "stdout",
     "output_type": "stream",
     "text": [
      "Top 3 items are : \n",
      "mineral water\n",
      "eggs\n",
      "turkey\n",
      "Time take by insertion sort is  0.293732\n"
     ]
    }
   ],
   "source": [
    "keys = list(frequency_dict.keys())#creating a variable with list of keys of the dictionary\n",
    "vals = list(frequency_dict.values()) #creating a variable with list of values of the dictionary\n",
    "print(\"Top 3 items are : \")\n",
    "print(keys[vals.index(6)])#printing top selling item\n",
    "print(keys[vals.index(5)])#printing top 2nd selling item\n",
    "print(keys[vals.index(4)])#printing top 3rd selling item\n",
    "\n",
    "total_time = (t2-t1)*1000 #formula to calculate time taken by algorithm\n",
    "print(\"Time take by insertion sort is\"'{0:10f}'.format(total_time))"
   ]
  },
  {
   "cell_type": "markdown",
   "id": "6077d74a",
   "metadata": {},
   "source": [
    "MERGE SORT"
   ]
  },
  {
   "cell_type": "code",
   "execution_count": 36,
   "id": "0dd437f3",
   "metadata": {},
   "outputs": [
    {
     "name": "stdout",
     "output_type": "stream",
     "text": [
      "Sorted array is: \n",
      "[6, 5, 4, 3, 3, 3, 3, 3, 3, 2, 2, 2, 2, 2, 2, 2, 2, 1, 1, 1, 1, 1, 1, 1, 1, 1, 1, 1, 1, 1, 1, 1, 1, 1, 1, 1, 1, 1, 1, 1, 1, 1, 1, 1, 1, 1, 1, 1]\n"
     ]
    }
   ],
   "source": [
    "t1 = time.time() #before execution\n",
    "def mergeSort(arr):\n",
    "    if len(arr) > 1:\n",
    "\n",
    "        # Finding the mid of the array\n",
    "        mid = len(arr)//2\n",
    "\n",
    "        # Dividing the array elements\n",
    "        L = arr[:mid]\n",
    "\n",
    "        # into 2 halves\n",
    "        R = arr[mid:]\n",
    "\n",
    "        # Sorting the first half\n",
    "        mergeSort(L)\n",
    "\n",
    "        # Sorting the second half\n",
    "        mergeSort(R)\n",
    "\n",
    "        i = j = k = 0\n",
    "\n",
    "        # Copy data to temp arrays L[] and R[]\n",
    "        while i < len(L) and j < len(R):\n",
    "            if L[i] > R[j]:\n",
    "                arr[k] = L[i]\n",
    "                i += 1\n",
    "            else:\n",
    "                arr[k] = R[j]\n",
    "                j += 1\n",
    "            k += 1\n",
    "\n",
    "        # Checking if any element was left\n",
    "        while i < len(L):\n",
    "            arr[k] = L[i]\n",
    "            i += 1\n",
    "            k += 1\n",
    "\n",
    "        while j < len(R):\n",
    "            arr[k] = R[j]\n",
    "            j += 1\n",
    "            k += 1\n",
    "            \n",
    "            \n",
    "t2 = time.time() #after execution\n",
    "\n",
    "# Driver Code for above function\n",
    "arr = list(frequency_dict.values())#dictionary values given as list input\n",
    "mergeSort(arr)\n",
    "print(\"Sorted array is: \", end=\"\\n\")\n",
    "print(arr)#printing the sorted array\n"
   ]
  },
  {
   "cell_type": "code",
   "execution_count": 37,
   "id": "196bfebe",
   "metadata": {},
   "outputs": [
    {
     "name": "stdout",
     "output_type": "stream",
     "text": [
      "Top 3 items are : \n",
      "mineral water\n",
      "eggs\n",
      "turkey\n",
      "Time take by merge sort is  0.382900\n"
     ]
    }
   ],
   "source": [
    "keys = list(frequency_dict.keys()) #creating the variable for list of keys of the dictionary\n",
    "vals = list(frequency_dict.values())#creating the variable for list of values of the dictionary\n",
    "print(\"Top 3 items are : \")\n",
    "print(keys[vals.index(6)])#printing top selling item\n",
    "print(keys[vals.index(5)])#printing top 2nd selling item\n",
    "print(keys[vals.index(4)])#printing top 3rd selling item\n",
    "\n",
    "total_time = (t2-t1)*1000 #calculating the time taken by algorithm\n",
    "print(\"Time take by merge sort is\"'{0:10f}'.format(total_time))"
   ]
  },
  {
   "cell_type": "markdown",
   "id": "5d0cffc9",
   "metadata": {},
   "source": [
    "3. Rank the sorting algorithms in order of the time they take to sort items."
   ]
  },
  {
   "cell_type": "markdown",
   "id": "d509458c",
   "metadata": {},
   "source": [
    "ANS:\n",
    "Time take by insertion sort is  0.293732, \n",
    "Time take by merge sort is  0.382900 and\n",
    "Time take by selection sort is  0.092983\n",
    "\n",
    "Therefore ranking of sorting algorithm is Merge Sort > Insertion Sort > Selection Sort"
   ]
  },
  {
   "cell_type": "code",
   "execution_count": null,
   "id": "f874c164",
   "metadata": {},
   "outputs": [],
   "source": []
  }
 ],
 "metadata": {
  "kernelspec": {
   "display_name": "Python 3 (ipykernel)",
   "language": "python",
   "name": "python3"
  },
  "language_info": {
   "codemirror_mode": {
    "name": "ipython",
    "version": 3
   },
   "file_extension": ".py",
   "mimetype": "text/x-python",
   "name": "python",
   "nbconvert_exporter": "python",
   "pygments_lexer": "ipython3",
   "version": "3.9.12"
  }
 },
 "nbformat": 4,
 "nbformat_minor": 5
}
