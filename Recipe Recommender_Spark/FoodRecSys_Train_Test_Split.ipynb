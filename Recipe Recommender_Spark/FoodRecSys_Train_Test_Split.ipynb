{
 "cells": [
  {
   "cell_type": "markdown",
   "id": "792ee3b7",
   "metadata": {},
   "source": [
    "# Recipe Recommender Assignment"
   ]
  },
  {
   "cell_type": "code",
   "execution_count": 1,
   "id": "b80d7f47",
   "metadata": {},
   "outputs": [
    {
     "data": {
      "application/vnd.jupyter.widget-view+json": {
       "model_id": "91b8d343c42642ae98b0189fa31cb902",
       "version_major": 2,
       "version_minor": 0
      },
      "text/plain": [
       "VBox()"
      ]
     },
     "metadata": {},
     "output_type": "display_data"
    },
    {
     "name": "stdout",
     "output_type": "stream",
     "text": [
      "Starting Spark application\n"
     ]
    },
    {
     "data": {
      "text/html": [
       "<table>\n",
       "<tr><th>ID</th><th>YARN Application ID</th><th>Kind</th><th>State</th><th>Spark UI</th><th>Driver log</th><th>User</th><th>Current session?</th></tr><tr><td>1</td><td>application_1687617794353_0002</td><td>pyspark</td><td>idle</td><td><a target=\"_blank\" href=\"http://ip-10-0-7-64.ec2.internal:20888/proxy/application_1687617794353_0002/\" class=\"emr-proxy-link\" emr-resource=\"j-341N3G4YQ2EYF\n",
       "\" application-id=\"application_1687617794353_0002\">Link</a></td><td><a target=\"_blank\" href=\"http://ip-10-0-2-143.ec2.internal:8042/node/containerlogs/container_1687617794353_0002_01_000001/livy\" >Link</a></td><td>None</td><td>✔</td></tr></table>"
      ],
      "text/plain": [
       "<IPython.core.display.HTML object>"
      ]
     },
     "metadata": {},
     "output_type": "display_data"
    },
    {
     "data": {
      "application/vnd.jupyter.widget-view+json": {
       "model_id": "",
       "version_major": 2,
       "version_minor": 0
      },
      "text/plain": [
       "FloatProgress(value=0.0, bar_style='info', description='Progress:', layout=Layout(height='25px', width='50%'),…"
      ]
     },
     "metadata": {},
     "output_type": "display_data"
    },
    {
     "name": "stdout",
     "output_type": "stream",
     "text": [
      "SparkSession available as 'spark'.\n"
     ]
    },
    {
     "data": {
      "application/vnd.jupyter.widget-view+json": {
       "model_id": "",
       "version_major": 2,
       "version_minor": 0
      },
      "text/plain": [
       "FloatProgress(value=0.0, bar_style='info', description='Progress:', layout=Layout(height='25px', width='50%'),…"
      ]
     },
     "metadata": {},
     "output_type": "display_data"
    }
   ],
   "source": [
    "from pyspark.sql import SparkSession"
   ]
  },
  {
   "cell_type": "code",
   "execution_count": 2,
   "id": "2ce585bd",
   "metadata": {},
   "outputs": [
    {
     "data": {
      "application/vnd.jupyter.widget-view+json": {
       "model_id": "a5ac4f4399174ff58d237662a23502ce",
       "version_major": 2,
       "version_minor": 0
      },
      "text/plain": [
       "VBox()"
      ]
     },
     "metadata": {},
     "output_type": "display_data"
    },
    {
     "data": {
      "application/vnd.jupyter.widget-view+json": {
       "model_id": "",
       "version_major": 2,
       "version_minor": 0
      },
      "text/plain": [
       "FloatProgress(value=0.0, bar_style='info', description='Progress:', layout=Layout(height='25px', width='50%'),…"
      ]
     },
     "metadata": {},
     "output_type": "display_data"
    }
   ],
   "source": [
    "from pyspark.sql import SparkSession\n",
    "spark = SparkSession.builder.appName(\"Basics\").getOrCreate()"
   ]
  },
  {
   "cell_type": "code",
   "execution_count": 3,
   "id": "bdc7684f",
   "metadata": {},
   "outputs": [
    {
     "data": {
      "application/vnd.jupyter.widget-view+json": {
       "model_id": "fd111f55eb104ea5be67296ba62f58f8",
       "version_major": 2,
       "version_minor": 0
      },
      "text/plain": [
       "VBox()"
      ]
     },
     "metadata": {},
     "output_type": "display_data"
    },
    {
     "data": {
      "application/vnd.jupyter.widget-view+json": {
       "model_id": "",
       "version_major": 2,
       "version_minor": 0
      },
      "text/plain": [
       "FloatProgress(value=0.0, bar_style='info', description='Progress:', layout=Layout(height='25px', width='50%'),…"
      ]
     },
     "metadata": {},
     "output_type": "display_data"
    },
    {
     "name": "stdout",
     "output_type": "stream",
     "text": [
      "<pyspark.sql.session.SparkSession object at 0x7f6cb941c6d0>"
     ]
    }
   ],
   "source": [
    "spark"
   ]
  },
  {
   "cell_type": "code",
   "execution_count": 4,
   "id": "d51cbb63",
   "metadata": {},
   "outputs": [
    {
     "data": {
      "application/vnd.jupyter.widget-view+json": {
       "model_id": "7fff15d239174327a0c610b2c06e4686",
       "version_major": 2,
       "version_minor": 0
      },
      "text/plain": [
       "VBox()"
      ]
     },
     "metadata": {},
     "output_type": "display_data"
    },
    {
     "data": {
      "application/vnd.jupyter.widget-view+json": {
       "model_id": "",
       "version_major": 2,
       "version_minor": 0
      },
      "text/plain": [
       "FloatProgress(value=0.0, bar_style='info', description='Progress:', layout=Layout(height='25px', width='50%'),…"
      ]
     },
     "metadata": {},
     "output_type": "display_data"
    }
   ],
   "source": [
    "from pyspark.sql import functions as F\n",
    "\n",
    "# Import for typecasting columns\n",
    "from pyspark.sql.types import IntegerType,BooleanType,DateType,FloatType,StringType\n",
    "from pyspark.sql.types import ArrayType"
   ]
  },
  {
   "cell_type": "code",
   "execution_count": 5,
   "id": "0b9992cc",
   "metadata": {},
   "outputs": [
    {
     "data": {
      "application/vnd.jupyter.widget-view+json": {
       "model_id": "013bf345c8d542f699b03ca059e4e554",
       "version_major": 2,
       "version_minor": 0
      },
      "text/plain": [
       "VBox()"
      ]
     },
     "metadata": {},
     "output_type": "display_data"
    },
    {
     "data": {
      "application/vnd.jupyter.widget-view+json": {
       "model_id": "",
       "version_major": 2,
       "version_minor": 0
      },
      "text/plain": [
       "FloatProgress(value=0.0, bar_style='info', description='Progress:', layout=Layout(height='25px', width='50%'),…"
      ]
     },
     "metadata": {},
     "output_type": "display_data"
    }
   ],
   "source": [
    "raw_ratings= (spark.read.csv(\"s3a://raw-recipes-clean-upgrad/raw_ratings_small.csv\", inferSchema = True, header = True))"
   ]
  },
  {
   "cell_type": "code",
   "execution_count": 6,
   "id": "24cfb858",
   "metadata": {},
   "outputs": [
    {
     "data": {
      "application/vnd.jupyter.widget-view+json": {
       "model_id": "294088a681414e1b94270e898cece310",
       "version_major": 2,
       "version_minor": 0
      },
      "text/plain": [
       "VBox()"
      ]
     },
     "metadata": {},
     "output_type": "display_data"
    },
    {
     "data": {
      "application/vnd.jupyter.widget-view+json": {
       "model_id": "",
       "version_major": 2,
       "version_minor": 0
      },
      "text/plain": [
       "FloatProgress(value=0.0, bar_style='info', description='Progress:', layout=Layout(height='25px', width='50%'),…"
      ]
     },
     "metadata": {},
     "output_type": "display_data"
    },
    {
     "name": "stdout",
     "output_type": "stream",
     "text": [
      "+-------+---------+------+--------------------+-------------------+\n",
      "|user_id|recipe_id|rating|              review|        review_date|\n",
      "+-------+---------+------+--------------------+-------------------+\n",
      "| 483827|   306785|     5|Being a  huge fan...|2008-07-15 00:00:00|\n",
      "|   6258|    20930|     5|Jan  what an inte...|2002-07-09 00:00:00|\n",
      "| 102602|    20930|     5|Jan  we love your...|2003-10-26 00:00:00|\n",
      "| 296027|   182985|     4|Very nice fresh s...|2007-05-19 00:00:00|\n",
      "|   9580|   208980|     5|I saw this on 30 ...|2007-02-05 00:00:00|\n",
      "+-------+---------+------+--------------------+-------------------+\n",
      "only showing top 5 rows"
     ]
    }
   ],
   "source": [
    "raw_ratings.show(5)"
   ]
  },
  {
   "cell_type": "code",
   "execution_count": 7,
   "id": "286120fc",
   "metadata": {},
   "outputs": [
    {
     "data": {
      "application/vnd.jupyter.widget-view+json": {
       "model_id": "7645394d711a4d559aed6a127a10e254",
       "version_major": 2,
       "version_minor": 0
      },
      "text/plain": [
       "VBox()"
      ]
     },
     "metadata": {},
     "output_type": "display_data"
    },
    {
     "data": {
      "application/vnd.jupyter.widget-view+json": {
       "model_id": "",
       "version_major": 2,
       "version_minor": 0
      },
      "text/plain": [
       "FloatProgress(value=0.0, bar_style='info', description='Progress:', layout=Layout(height='25px', width='50%'),…"
      ]
     },
     "metadata": {},
     "output_type": "display_data"
    }
   ],
   "source": [
    "raw_recipes= (spark.read.csv(\"s3a://raw-recipes-clean-upgrad/raw_recipies_small.csv\", inferSchema = True, header = True))"
   ]
  },
  {
   "cell_type": "code",
   "execution_count": 8,
   "id": "62fe31d2",
   "metadata": {},
   "outputs": [
    {
     "data": {
      "application/vnd.jupyter.widget-view+json": {
       "model_id": "18e93c8d071b43c2a3cc15619a1ed0bd",
       "version_major": 2,
       "version_minor": 0
      },
      "text/plain": [
       "VBox()"
      ]
     },
     "metadata": {},
     "output_type": "display_data"
    },
    {
     "data": {
      "application/vnd.jupyter.widget-view+json": {
       "model_id": "",
       "version_major": 2,
       "version_minor": 0
      },
      "text/plain": [
       "FloatProgress(value=0.0, bar_style='info', description='Progress:', layout=Layout(height='25px', width='50%'),…"
      ]
     },
     "metadata": {},
     "output_type": "display_data"
    },
    {
     "name": "stdout",
     "output_type": "stream",
     "text": [
      "+--------------------+-----+-------+--------------+-------------------+--------------------+--------------------+-------+--------------------+--------------------+--------------------+-------------+--------------+\n",
      "|                name|   id|minutes|contributor_id|          submitted|                tags|           nutrition|n_steps|               steps|         description|         ingredients|n_ingredients|year_of_review|\n",
      "+--------------------+-----+-------+--------------+-------------------+--------------------+--------------------+-------+--------------------+--------------------+--------------------+-------------+--------------+\n",
      "|beat this  banana...|75452|     70|         15892|2003-11-04 00:00:00|['weeknight', 'ti...|[2669.3, 160.0, 9...|     12|['preheat oven to...|  from ann hodgman's|['sugar', 'unsalt...|            9|          2003|\n",
      "|      chinese  candy|23933|     15|         35268|2002-03-29 00:00:00|['15-minutes-or-l...|[232.7, 21.0, 77....|      4|['melt butterscot...|a little differen...|['butterscotch ch...|            3|          2002|\n",
      "|cream  of caulifl...|23850|    110|          3288|2002-03-28 00:00:00|['lactose', 'week...|[174.2, 4.0, 24.0...|     10|['heat the oil or...|this is a dairy free|['canola oil', 'o...|           16|          2002|\n",
      "|cream  of spinach...|76808|     45|         95743|2003-11-17 00:00:00|['60-minutes-or-l...|[126.0, 11.0, 2.0...|      9|['bring water and...|wonderful comfort...|['water', 'salt',...|            8|          2003|\n",
      "|i can t believe i...|33165|     30|         40493|2002-07-04 00:00:00|['30-minutes-or-l...|[152.5, 2.0, 20.0...|     12|['cut potatoes in...|the name says it ...|['red potatoes', ...|           13|          2002|\n",
      "+--------------------+-----+-------+--------------+-------------------+--------------------+--------------------+-------+--------------------+--------------------+--------------------+-------------+--------------+\n",
      "only showing top 5 rows"
     ]
    }
   ],
   "source": [
    "raw_recipes.show(5)"
   ]
  },
  {
   "cell_type": "code",
   "execution_count": 9,
   "id": "56fb7e6e",
   "metadata": {},
   "outputs": [
    {
     "data": {
      "application/vnd.jupyter.widget-view+json": {
       "model_id": "4247d90aa67946479bed3e9f1c58b5a3",
       "version_major": 2,
       "version_minor": 0
      },
      "text/plain": [
       "VBox()"
      ]
     },
     "metadata": {},
     "output_type": "display_data"
    },
    {
     "data": {
      "application/vnd.jupyter.widget-view+json": {
       "model_id": "",
       "version_major": 2,
       "version_minor": 0
      },
      "text/plain": [
       "FloatProgress(value=0.0, bar_style='info', description='Progress:', layout=Layout(height='25px', width='50%'),…"
      ]
     },
     "metadata": {},
     "output_type": "display_data"
    }
   ],
   "source": [
    "assert (raw_recipes.count(), len(raw_recipes.columns)) == (20340, 13)\n",
    "assert (raw_ratings.count(), len(raw_ratings.columns)) == (93357, 5)"
   ]
  },
  {
   "cell_type": "markdown",
   "id": "32aab9ad",
   "metadata": {},
   "source": [
    "#### Decide a split date based on the ratings dataframe. "
   ]
  },
  {
   "cell_type": "code",
   "execution_count": 10,
   "id": "634b2af7",
   "metadata": {},
   "outputs": [
    {
     "data": {
      "application/vnd.jupyter.widget-view+json": {
       "model_id": "026e8db62101475580d5b89497f0ab07",
       "version_major": 2,
       "version_minor": 0
      },
      "text/plain": [
       "VBox()"
      ]
     },
     "metadata": {},
     "output_type": "display_data"
    },
    {
     "data": {
      "application/vnd.jupyter.widget-view+json": {
       "model_id": "",
       "version_major": 2,
       "version_minor": 0
      },
      "text/plain": [
       "FloatProgress(value=0.0, bar_style='info', description='Progress:', layout=Layout(height='25px', width='50%'),…"
      ]
     },
     "metadata": {},
     "output_type": "display_data"
    }
   ],
   "source": [
    "# Find the number of data points in the interaction dataset. \n",
    "# You can use the count() method. \n",
    "# The output must be an integer.\n",
    "\n",
    "num_review_int = raw_ratings.count()"
   ]
  },
  {
   "cell_type": "code",
   "execution_count": 12,
   "id": "7093cb68",
   "metadata": {},
   "outputs": [
    {
     "data": {
      "application/vnd.jupyter.widget-view+json": {
       "model_id": "16b152ca3a79409eb44403fa9bac349a",
       "version_major": 2,
       "version_minor": 0
      },
      "text/plain": [
       "VBox()"
      ]
     },
     "metadata": {},
     "output_type": "display_data"
    },
    {
     "data": {
      "application/vnd.jupyter.widget-view+json": {
       "model_id": "",
       "version_major": 2,
       "version_minor": 0
      },
      "text/plain": [
       "FloatProgress(value=0.0, bar_style='info', description='Progress:', layout=Layout(height='25px', width='50%'),…"
      ]
     },
     "metadata": {},
     "output_type": "display_data"
    },
    {
     "name": "stdout",
     "output_type": "stream",
     "text": [
      "93357"
     ]
    }
   ],
   "source": [
    "num_review_int"
   ]
  },
  {
   "cell_type": "markdown",
   "id": "82aa0814",
   "metadata": {},
   "source": [
    "#### Task 01 - Train Test Split \n",
    "\n",
    "Divide the data into train and test based on the 80 - 20 split using the approach discussed. You will have to save the data in a parquet file. "
   ]
  },
  {
   "cell_type": "code",
   "execution_count": 14,
   "id": "7d72fd06",
   "metadata": {},
   "outputs": [
    {
     "data": {
      "application/vnd.jupyter.widget-view+json": {
       "model_id": "35807b7c89794b44b16da6834a7480bb",
       "version_major": 2,
       "version_minor": 0
      },
      "text/plain": [
       "VBox()"
      ]
     },
     "metadata": {},
     "output_type": "display_data"
    },
    {
     "data": {
      "application/vnd.jupyter.widget-view+json": {
       "model_id": "",
       "version_major": 2,
       "version_minor": 0
      },
      "text/plain": [
       "FloatProgress(value=0.0, bar_style='info', description='Progress:', layout=Layout(height='25px', width='50%'),…"
      ]
     },
     "metadata": {},
     "output_type": "display_data"
    },
    {
     "name": "stdout",
     "output_type": "stream",
     "text": [
      "18671"
     ]
    }
   ],
   "source": [
    "test_num_reviews_int = round(num_review_int *0.2)\n",
    "test_num_reviews_int"
   ]
  },
  {
   "cell_type": "code",
   "execution_count": 19,
   "id": "6551bd26",
   "metadata": {},
   "outputs": [
    {
     "data": {
      "application/vnd.jupyter.widget-view+json": {
       "model_id": "a52801ebf594420cbe759e2c70eee7d0",
       "version_major": 2,
       "version_minor": 0
      },
      "text/plain": [
       "VBox()"
      ]
     },
     "metadata": {},
     "output_type": "display_data"
    },
    {
     "data": {
      "application/vnd.jupyter.widget-view+json": {
       "model_id": "",
       "version_major": 2,
       "version_minor": 0
      },
      "text/plain": [
       "FloatProgress(value=0.0, bar_style='info', description='Progress:', layout=Layout(height='25px', width='50%'),…"
      ]
     },
     "metadata": {},
     "output_type": "display_data"
    }
   ],
   "source": [
    "# Sort the interactions dataset in descending order of review date. \n",
    "# Extract ```test_num_reviews_int``` most recent reviews. \n",
    "\n",
    "temp_ratings = (raw_ratings.sort(\"review_date\", ascending=False)\n",
    "                                 .limit(test_num_reviews_int)\n",
    "                  )"
   ]
  },
  {
   "cell_type": "code",
   "execution_count": 20,
   "id": "aee8f524",
   "metadata": {},
   "outputs": [
    {
     "data": {
      "application/vnd.jupyter.widget-view+json": {
       "model_id": "9a9e37e45a874557b0117e87cf9125b2",
       "version_major": 2,
       "version_minor": 0
      },
      "text/plain": [
       "VBox()"
      ]
     },
     "metadata": {},
     "output_type": "display_data"
    },
    {
     "data": {
      "application/vnd.jupyter.widget-view+json": {
       "model_id": "",
       "version_major": 2,
       "version_minor": 0
      },
      "text/plain": [
       "FloatProgress(value=0.0, bar_style='info', description='Progress:', layout=Layout(height='25px', width='50%'),…"
      ]
     },
     "metadata": {},
     "output_type": "display_data"
    }
   ],
   "source": [
    "assert temp_ratings.count()  == 18671\n",
    "assert raw_recipes.collect()[11][4] <= raw_recipes.collect()[10][4] "
   ]
  },
  {
   "cell_type": "code",
   "execution_count": 21,
   "id": "fbabffb8",
   "metadata": {},
   "outputs": [
    {
     "data": {
      "application/vnd.jupyter.widget-view+json": {
       "model_id": "e6d517bdacb348e8af7f02632fd4bbb1",
       "version_major": 2,
       "version_minor": 0
      },
      "text/plain": [
       "VBox()"
      ]
     },
     "metadata": {},
     "output_type": "display_data"
    },
    {
     "data": {
      "application/vnd.jupyter.widget-view+json": {
       "model_id": "",
       "version_major": 2,
       "version_minor": 0
      },
      "text/plain": [
       "FloatProgress(value=0.0, bar_style='info', description='Progress:', layout=Layout(height='25px', width='50%'),…"
      ]
     },
     "metadata": {},
     "output_type": "display_data"
    },
    {
     "name": "stdout",
     "output_type": "stream",
     "text": [
      "datetime.datetime(2011, 7, 17, 0, 0)"
     ]
    }
   ],
   "source": [
    "temp_ratings.collect()[-1][4]"
   ]
  },
  {
   "cell_type": "markdown",
   "id": "7b2c7559",
   "metadata": {},
   "source": [
    "Split the data into two parts before and after 2011-07-17. \n",
    "\n",
    "- All reviews in the ratings data after 2011-07-17 will not exsist in the training set. \n",
    "- For all future predictions the date will be set at 2011-07-18.   "
   ]
  },
  {
   "cell_type": "code",
   "execution_count": 25,
   "id": "d17592c7",
   "metadata": {},
   "outputs": [
    {
     "data": {
      "application/vnd.jupyter.widget-view+json": {
       "model_id": "64b3399b0493440480916e8ba8707502",
       "version_major": 2,
       "version_minor": 0
      },
      "text/plain": [
       "VBox()"
      ]
     },
     "metadata": {},
     "output_type": "display_data"
    },
    {
     "data": {
      "application/vnd.jupyter.widget-view+json": {
       "model_id": "",
       "version_major": 2,
       "version_minor": 0
      },
      "text/plain": [
       "FloatProgress(value=0.0, bar_style='info', description='Progress:', layout=Layout(height='25px', width='50%'),…"
      ]
     },
     "metadata": {},
     "output_type": "display_data"
    }
   ],
   "source": [
    "# Join raw_recipes and raw_ratings\n",
    "# Use recipe_id as the key to join these dataframes \n",
    "# The resulting dataframe must have all rows from the raw_ratings dataframe. \n",
    "\n",
    "interaction_level_df = raw_ratings.join(raw_recipes,raw_ratings.recipe_id==raw_recipes.id,\"inner\")"
   ]
  },
  {
   "cell_type": "code",
   "execution_count": 26,
   "id": "35d8f29e",
   "metadata": {},
   "outputs": [
    {
     "data": {
      "application/vnd.jupyter.widget-view+json": {
       "model_id": "3288775a09574585b068206187f824c1",
       "version_major": 2,
       "version_minor": 0
      },
      "text/plain": [
       "VBox()"
      ]
     },
     "metadata": {},
     "output_type": "display_data"
    },
    {
     "data": {
      "application/vnd.jupyter.widget-view+json": {
       "model_id": "",
       "version_major": 2,
       "version_minor": 0
      },
      "text/plain": [
       "FloatProgress(value=0.0, bar_style='info', description='Progress:', layout=Layout(height='25px', width='50%'),…"
      ]
     },
     "metadata": {},
     "output_type": "display_data"
    },
    {
     "name": "stdout",
     "output_type": "stream",
     "text": [
      "+-------+---------+------+--------------------+-------------------+--------------------+-----+-------+--------------+-------------------+--------------------+--------------------+-------+--------------------+--------------------+--------------------+-------------+--------------+\n",
      "|user_id|recipe_id|rating|              review|        review_date|                name|   id|minutes|contributor_id|          submitted|                tags|           nutrition|n_steps|               steps|         description|         ingredients|n_ingredients|year_of_review|\n",
      "+-------+---------+------+--------------------+-------------------+--------------------+-----+-------+--------------+-------------------+--------------------+--------------------+-------+--------------------+--------------------+--------------------+-------------+--------------+\n",
      "| 180507|     5084|     4|Very similar to t...|2005-10-04 00:00:00|granny s chicken ...| 5084|      0|          1534|1999-12-01 00:00:00|['15-minutes-or-l...|[2106.0, 134.0, 1...|     12|['clean chicken',...|this recipe is we...|['fryer', 'water'...|           10|          1999|\n",
      "|  26058|    14160|     4|This is good. Eas...|2003-05-08 00:00:00|   spicy potato soup|14160|     26|         21641|2001-11-13 00:00:00|['weeknight', '30...|[273.1, 17.0, 24....|      6|['in a dutch oven...|my husband loves ...|['ground beef', '...|            8|          2001|\n",
      "|  47510|    14160|     4|This soup  served...|2004-04-14 00:00:00|   spicy potato soup|14160|     26|         21641|2001-11-13 00:00:00|['weeknight', '30...|[273.1, 17.0, 24....|      6|['in a dutch oven...|my husband loves ...|['ground beef', '...|            8|          2001|\n",
      "| 246936|    14160|     5|I make this all t...|2006-11-20 00:00:00|   spicy potato soup|14160|     26|         21641|2001-11-13 00:00:00|['weeknight', '30...|[273.1, 17.0, 24....|      6|['in a dutch oven...|my husband loves ...|['ground beef', '...|            8|          2001|\n",
      "| 462745|    14160|     5|This is one of my...|2007-08-01 00:00:00|   spicy potato soup|14160|     26|         21641|2001-11-13 00:00:00|['weeknight', '30...|[273.1, 17.0, 24....|      6|['in a dutch oven...|my husband loves ...|['ground beef', '...|            8|          2001|\n",
      "+-------+---------+------+--------------------+-------------------+--------------------+-----+-------+--------------+-------------------+--------------------+--------------------+-------+--------------------+--------------------+--------------------+-------------+--------------+\n",
      "only showing top 5 rows"
     ]
    }
   ],
   "source": [
    "interaction_level_df.show(5)"
   ]
  },
  {
   "cell_type": "code",
   "execution_count": 28,
   "id": "8afde870",
   "metadata": {},
   "outputs": [
    {
     "data": {
      "application/vnd.jupyter.widget-view+json": {
       "model_id": "2c526f8da0144f978314b9eeceefb035",
       "version_major": 2,
       "version_minor": 0
      },
      "text/plain": [
       "VBox()"
      ]
     },
     "metadata": {},
     "output_type": "display_data"
    },
    {
     "data": {
      "application/vnd.jupyter.widget-view+json": {
       "model_id": "",
       "version_major": 2,
       "version_minor": 0
      },
      "text/plain": [
       "FloatProgress(value=0.0, bar_style='info', description='Progress:', layout=Layout(height='25px', width='50%'),…"
      ]
     },
     "metadata": {},
     "output_type": "display_data"
    }
   ],
   "source": [
    "# Use the filter command to separate the datasets. \n",
    "# All interactions which were rated BEFORE '2011-07-17' will be train data. \n",
    "\n",
    "train_interaction_level_df  = (interaction_level_df.filter( interaction_level_df.review_date< '2011-07-17'))"
   ]
  },
  {
   "cell_type": "code",
   "execution_count": 29,
   "id": "50594ac9",
   "metadata": {},
   "outputs": [
    {
     "data": {
      "application/vnd.jupyter.widget-view+json": {
       "model_id": "af5355cbe9514c1c93a4da65aabb4d5b",
       "version_major": 2,
       "version_minor": 0
      },
      "text/plain": [
       "VBox()"
      ]
     },
     "metadata": {},
     "output_type": "display_data"
    },
    {
     "data": {
      "application/vnd.jupyter.widget-view+json": {
       "model_id": "",
       "version_major": 2,
       "version_minor": 0
      },
      "text/plain": [
       "FloatProgress(value=0.0, bar_style='info', description='Progress:', layout=Layout(height='25px', width='50%'),…"
      ]
     },
     "metadata": {},
     "output_type": "display_data"
    },
    {
     "name": "stdout",
     "output_type": "stream",
     "text": [
      "+-------+---------+------+--------------------+-------------------+--------------------+-----+-------+--------------+-------------------+--------------------+--------------------+-------+--------------------+--------------------+--------------------+-------------+--------------+\n",
      "|user_id|recipe_id|rating|              review|        review_date|                name|   id|minutes|contributor_id|          submitted|                tags|           nutrition|n_steps|               steps|         description|         ingredients|n_ingredients|year_of_review|\n",
      "+-------+---------+------+--------------------+-------------------+--------------------+-----+-------+--------------+-------------------+--------------------+--------------------+-------+--------------------+--------------------+--------------------+-------------+--------------+\n",
      "| 180507|     5084|     4|Very similar to t...|2005-10-04 00:00:00|granny s chicken ...| 5084|      0|          1534|1999-12-01 00:00:00|['15-minutes-or-l...|[2106.0, 134.0, 1...|     12|['clean chicken',...|this recipe is we...|['fryer', 'water'...|           10|          1999|\n",
      "|  26058|    14160|     4|This is good. Eas...|2003-05-08 00:00:00|   spicy potato soup|14160|     26|         21641|2001-11-13 00:00:00|['weeknight', '30...|[273.1, 17.0, 24....|      6|['in a dutch oven...|my husband loves ...|['ground beef', '...|            8|          2001|\n",
      "|  47510|    14160|     4|This soup  served...|2004-04-14 00:00:00|   spicy potato soup|14160|     26|         21641|2001-11-13 00:00:00|['weeknight', '30...|[273.1, 17.0, 24....|      6|['in a dutch oven...|my husband loves ...|['ground beef', '...|            8|          2001|\n",
      "| 246936|    14160|     5|I make this all t...|2006-11-20 00:00:00|   spicy potato soup|14160|     26|         21641|2001-11-13 00:00:00|['weeknight', '30...|[273.1, 17.0, 24....|      6|['in a dutch oven...|my husband loves ...|['ground beef', '...|            8|          2001|\n",
      "| 462745|    14160|     5|This is one of my...|2007-08-01 00:00:00|   spicy potato soup|14160|     26|         21641|2001-11-13 00:00:00|['weeknight', '30...|[273.1, 17.0, 24....|      6|['in a dutch oven...|my husband loves ...|['ground beef', '...|            8|          2001|\n",
      "| 250031|    14160|     5|7/6/2008: This is...|2009-10-01 00:00:00|   spicy potato soup|14160|     26|         21641|2001-11-13 00:00:00|['weeknight', '30...|[273.1, 17.0, 24....|      6|['in a dutch oven...|my husband loves ...|['ground beef', '...|            8|          2001|\n",
      "| 540548|    14160|     5|This is very tast...|2009-11-22 00:00:00|   spicy potato soup|14160|     26|         21641|2001-11-13 00:00:00|['weeknight', '30...|[273.1, 17.0, 24....|      6|['in a dutch oven...|my husband loves ...|['ground beef', '...|            8|          2001|\n",
      "| 510022|    14160|     5|I love this recip...|2010-01-18 00:00:00|   spicy potato soup|14160|     26|         21641|2001-11-13 00:00:00|['weeknight', '30...|[273.1, 17.0, 24....|      6|['in a dutch oven...|my husband loves ...|['ground beef', '...|            8|          2001|\n",
      "+-------+---------+------+--------------------+-------------------+--------------------+-----+-------+--------------+-------------------+--------------------+--------------------+-------+--------------------+--------------------+--------------------+-------------+--------------+\n",
      "only showing top 8 rows"
     ]
    }
   ],
   "source": [
    "train_interaction_level_df.show(8)"
   ]
  },
  {
   "cell_type": "code",
   "execution_count": 31,
   "id": "da4fe7bd",
   "metadata": {},
   "outputs": [
    {
     "data": {
      "application/vnd.jupyter.widget-view+json": {
       "model_id": "c55065aaaa134d22aff408adcc06d327",
       "version_major": 2,
       "version_minor": 0
      },
      "text/plain": [
       "VBox()"
      ]
     },
     "metadata": {},
     "output_type": "display_data"
    },
    {
     "data": {
      "application/vnd.jupyter.widget-view+json": {
       "model_id": "",
       "version_major": 2,
       "version_minor": 0
      },
      "text/plain": [
       "FloatProgress(value=0.0, bar_style='info', description='Progress:', layout=Layout(height='25px', width='50%'),…"
      ]
     },
     "metadata": {},
     "output_type": "display_data"
    }
   ],
   "source": [
    "# Use the filter command to separate the datasets. \n",
    "# All interactions which were rated ON OR AFTER '2011-07-17' will be test data. \n",
    "\n",
    "test_interaction_level_all_recipies_df  = (interaction_level_df.filter(  \n",
    "                                             interaction_level_df.review_date >='2011-07-17'))"
   ]
  },
  {
   "cell_type": "code",
   "execution_count": 32,
   "id": "cec41860",
   "metadata": {},
   "outputs": [
    {
     "data": {
      "application/vnd.jupyter.widget-view+json": {
       "model_id": "85fc269f36d9454d8f4a68b72193ff4c",
       "version_major": 2,
       "version_minor": 0
      },
      "text/plain": [
       "VBox()"
      ]
     },
     "metadata": {},
     "output_type": "display_data"
    },
    {
     "data": {
      "application/vnd.jupyter.widget-view+json": {
       "model_id": "",
       "version_major": 2,
       "version_minor": 0
      },
      "text/plain": [
       "FloatProgress(value=0.0, bar_style='info', description='Progress:', layout=Layout(height='25px', width='50%'),…"
      ]
     },
     "metadata": {},
     "output_type": "display_data"
    },
    {
     "name": "stdout",
     "output_type": "stream",
     "text": [
      "+----------+---------+------+--------------------+-------------------+--------------------+------+-------+--------------+-------------------+--------------------+--------------------+-------+--------------------+--------------------+--------------------+-------------+--------------+\n",
      "|   user_id|recipe_id|rating|              review|        review_date|                name|    id|minutes|contributor_id|          submitted|                tags|           nutrition|n_steps|               steps|         description|         ingredients|n_ingredients|year_of_review|\n",
      "+----------+---------+------+--------------------+-------------------+--------------------+------+-------+--------------+-------------------+--------------------+--------------------+-------+--------------------+--------------------+--------------------+-------------+--------------+\n",
      "|    222564|   301798|     5|DIVINE! I didn&#0...|2014-05-11 00:00:00|bow tie pasta wit...|301798|     35|        324390|2008-05-01 00:00:00|['60-minutes-or-l...|[775.5, 51.0, 18....|     16|['put the pine nu...|although this ser...|['pine nuts', 'ko...|           12|          2008|\n",
      "|1802380878|    35912|     0|I pretty much fol...|2014-01-19 00:00:00|cheesy bacon   sa...| 35912|     75|         45698|2002-08-02 00:00:00|['bacon', 'weekni...|[4123.9, 503.0, 2...|     13|['preheat oven to...|neat breakfast (o...|['breakfast sausa...|            9|          2002|\n",
      "|   1487809|    91299|     5|This is one of my...|2013-08-28 00:00:00|chili with sausag...| 91299|     45|         52595|2004-05-18 00:00:00|['60-minutes-or-l...|[331.7, 26.0, 20....|     17|['heat 2 t', 'oil...|this is a real ta...|['olive oil', 'le...|           20|          2004|\n",
      "|    385423|    95476|     4|I used 1/2 oil an...|2018-08-18 00:00:00|chocolate zucchin...| 95476|     30|        124190|2004-07-12 00:00:00|['30-minutes-or-l...|[216.2, 15.0, 68....|     11|['preheat oven to...|i found this reci...|['eggs', 'white s...|           14|          2004|\n",
      "|2001948726|    95476|     5|I followed the re...|2018-01-23 00:00:00|chocolate zucchin...| 95476|     30|        124190|2004-07-12 00:00:00|['30-minutes-or-l...|[216.2, 15.0, 68....|     11|['preheat oven to...|i found this reci...|['eggs', 'white s...|           14|          2004|\n",
      "+----------+---------+------+--------------------+-------------------+--------------------+------+-------+--------------+-------------------+--------------------+--------------------+-------+--------------------+--------------------+--------------------+-------------+--------------+\n",
      "only showing top 5 rows"
     ]
    }
   ],
   "source": [
    "test_interaction_level_all_recipies_df.show(5)"
   ]
  },
  {
   "cell_type": "code",
   "execution_count": 34,
   "id": "cce8581c",
   "metadata": {},
   "outputs": [
    {
     "data": {
      "application/vnd.jupyter.widget-view+json": {
       "model_id": "6d65670111db4f59b76372766ed15970",
       "version_major": 2,
       "version_minor": 0
      },
      "text/plain": [
       "VBox()"
      ]
     },
     "metadata": {},
     "output_type": "display_data"
    },
    {
     "data": {
      "application/vnd.jupyter.widget-view+json": {
       "model_id": "",
       "version_major": 2,
       "version_minor": 0
      },
      "text/plain": [
       "FloatProgress(value=0.0, bar_style='info', description='Progress:', layout=Layout(height='25px', width='50%'),…"
      ]
     },
     "metadata": {},
     "output_type": "display_data"
    },
    {
     "name": "stdout",
     "output_type": "stream",
     "text": [
      "18684"
     ]
    }
   ],
   "source": [
    "test_interaction_level_all_recipies_df.count()"
   ]
  },
  {
   "cell_type": "code",
   "execution_count": 33,
   "id": "a15311bc",
   "metadata": {},
   "outputs": [
    {
     "data": {
      "application/vnd.jupyter.widget-view+json": {
       "model_id": "de8f65595e7f4c798e8306514225265b",
       "version_major": 2,
       "version_minor": 0
      },
      "text/plain": [
       "VBox()"
      ]
     },
     "metadata": {},
     "output_type": "display_data"
    },
    {
     "data": {
      "application/vnd.jupyter.widget-view+json": {
       "model_id": "",
       "version_major": 2,
       "version_minor": 0
      },
      "text/plain": [
       "FloatProgress(value=0.0, bar_style='info', description='Progress:', layout=Layout(height='25px', width='50%'),…"
      ]
     },
     "metadata": {},
     "output_type": "display_data"
    }
   ],
   "source": [
    "assert (test_interaction_level_all_recipies_df.count(), len(test_interaction_level_all_recipies_df.columns)) == (18684, 18)\n",
    "assert (train_interaction_level_df.count(), len(train_interaction_level_df.columns)) == (74673, 18)"
   ]
  },
  {
   "cell_type": "code",
   "execution_count": 35,
   "id": "315f7bcc",
   "metadata": {},
   "outputs": [
    {
     "data": {
      "application/vnd.jupyter.widget-view+json": {
       "model_id": "30549f0438284b7bb19889768c886bd9",
       "version_major": 2,
       "version_minor": 0
      },
      "text/plain": [
       "VBox()"
      ]
     },
     "metadata": {},
     "output_type": "display_data"
    },
    {
     "data": {
      "application/vnd.jupyter.widget-view+json": {
       "model_id": "",
       "version_major": 2,
       "version_minor": 0
      },
      "text/plain": [
       "FloatProgress(value=0.0, bar_style='info', description='Progress:', layout=Layout(height='25px', width='50%'),…"
      ]
     },
     "metadata": {},
     "output_type": "display_data"
    }
   ],
   "source": [
    "# create data files for modeling \n",
    "\n",
    "(train_interaction_level_df.coalesce(1)\n",
    "                           .write.mode('overwrite')\n",
    "                           .parquet('s3://aws-emr-resources-757926750210-us-east-1/train_interaction_level_df.parquet'))  # change the file name and file path\n",
    "\n",
    "(test_interaction_level_all_recipies_df.coalesce(1)\n",
    "                                       .write.mode('overwrite')\n",
    "                                       .parquet('s3://aws-emr-resources-757926750210-us-east-1/test_interaction_level_df.parquet'))  # change the file name and file path"
   ]
  },
  {
   "cell_type": "code",
   "execution_count": null,
   "id": "9ca576dc",
   "metadata": {},
   "outputs": [],
   "source": []
  }
 ],
 "metadata": {
  "kernelspec": {
   "display_name": "Python 3 (ipykernel)",
   "language": "python",
   "name": "python3"
  },
  "language_info": {
   "codemirror_mode": {
    "name": "ipython",
    "version": 3
   },
   "file_extension": ".py",
   "mimetype": "text/x-python",
   "name": "python",
   "nbconvert_exporter": "python",
   "pygments_lexer": "ipython3",
   "version": "3.9.12"
  }
 },
 "nbformat": 4,
 "nbformat_minor": 5
}
