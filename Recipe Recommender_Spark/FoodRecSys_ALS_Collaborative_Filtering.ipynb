{
 "cells": [
  {
   "cell_type": "markdown",
   "id": "1680f875",
   "metadata": {},
   "source": [
    "# Recipe Recommender Assignment"
   ]
  },
  {
   "cell_type": "code",
   "execution_count": 1,
   "id": "5dc1e564",
   "metadata": {},
   "outputs": [
    {
     "data": {
      "application/vnd.jupyter.widget-view+json": {
       "model_id": "f549247a313e4fec971f9e0c64322891",
       "version_major": 2,
       "version_minor": 0
      },
      "text/plain": [
       "VBox()"
      ]
     },
     "metadata": {},
     "output_type": "display_data"
    },
    {
     "name": "stdout",
     "output_type": "stream",
     "text": [
      "Starting Spark application\n"
     ]
    },
    {
     "data": {
      "text/html": [
       "<table>\n",
       "<tr><th>ID</th><th>YARN Application ID</th><th>Kind</th><th>State</th><th>Spark UI</th><th>Driver log</th><th>User</th><th>Current session?</th></tr><tr><td>2</td><td>application_1687670111475_0003</td><td>pyspark</td><td>idle</td><td><a target=\"_blank\" href=\"http://ip-10-0-15-77.ec2.internal:20888/proxy/application_1687670111475_0003/\" class=\"emr-proxy-link\" emr-resource=\"j-3V8SNXDLYCCZM\n",
       "\" application-id=\"application_1687670111475_0003\">Link</a></td><td><a target=\"_blank\" href=\"http://ip-10-0-1-160.ec2.internal:8042/node/containerlogs/container_1687670111475_0003_01_000001/livy\" >Link</a></td><td>None</td><td>✔</td></tr></table>"
      ],
      "text/plain": [
       "<IPython.core.display.HTML object>"
      ]
     },
     "metadata": {},
     "output_type": "display_data"
    },
    {
     "data": {
      "application/vnd.jupyter.widget-view+json": {
       "model_id": "",
       "version_major": 2,
       "version_minor": 0
      },
      "text/plain": [
       "FloatProgress(value=0.0, bar_style='info', description='Progress:', layout=Layout(height='25px', width='50%'),…"
      ]
     },
     "metadata": {},
     "output_type": "display_data"
    },
    {
     "name": "stdout",
     "output_type": "stream",
     "text": [
      "SparkSession available as 'spark'.\n"
     ]
    },
    {
     "data": {
      "application/vnd.jupyter.widget-view+json": {
       "model_id": "",
       "version_major": 2,
       "version_minor": 0
      },
      "text/plain": [
       "FloatProgress(value=0.0, bar_style='info', description='Progress:', layout=Layout(height='25px', width='50%'),…"
      ]
     },
     "metadata": {},
     "output_type": "display_data"
    }
   ],
   "source": [
    "from pyspark.sql import SparkSession"
   ]
  },
  {
   "cell_type": "code",
   "execution_count": 2,
   "id": "2ba88251",
   "metadata": {},
   "outputs": [
    {
     "data": {
      "application/vnd.jupyter.widget-view+json": {
       "model_id": "8049f4395cdd4a8bb16716f3f9ef27a9",
       "version_major": 2,
       "version_minor": 0
      },
      "text/plain": [
       "VBox()"
      ]
     },
     "metadata": {},
     "output_type": "display_data"
    },
    {
     "data": {
      "application/vnd.jupyter.widget-view+json": {
       "model_id": "",
       "version_major": 2,
       "version_minor": 0
      },
      "text/plain": [
       "FloatProgress(value=0.0, bar_style='info', description='Progress:', layout=Layout(height='25px', width='50%'),…"
      ]
     },
     "metadata": {},
     "output_type": "display_data"
    }
   ],
   "source": [
    "from pyspark.sql import SparkSession\n",
    "spark = SparkSession.builder.appName(\"Basics\").getOrCreate()"
   ]
  },
  {
   "cell_type": "code",
   "execution_count": 3,
   "id": "25050d0a",
   "metadata": {},
   "outputs": [
    {
     "data": {
      "application/vnd.jupyter.widget-view+json": {
       "model_id": "e5d7b749b2dc4c23b41eac15644d9655",
       "version_major": 2,
       "version_minor": 0
      },
      "text/plain": [
       "VBox()"
      ]
     },
     "metadata": {},
     "output_type": "display_data"
    },
    {
     "data": {
      "application/vnd.jupyter.widget-view+json": {
       "model_id": "",
       "version_major": 2,
       "version_minor": 0
      },
      "text/plain": [
       "FloatProgress(value=0.0, bar_style='info', description='Progress:', layout=Layout(height='25px', width='50%'),…"
      ]
     },
     "metadata": {},
     "output_type": "display_data"
    },
    {
     "name": "stdout",
     "output_type": "stream",
     "text": [
      "<pyspark.sql.session.SparkSession object at 0x7f1a4a179550>"
     ]
    }
   ],
   "source": [
    "spark"
   ]
  },
  {
   "cell_type": "markdown",
   "id": "6df4c787",
   "metadata": {},
   "source": [
    "## Imports"
   ]
  },
  {
   "cell_type": "code",
   "execution_count": 4,
   "id": "19d53703",
   "metadata": {},
   "outputs": [
    {
     "data": {
      "application/vnd.jupyter.widget-view+json": {
       "model_id": "9c9ae735c4b34e938c607c9caca33e60",
       "version_major": 2,
       "version_minor": 0
      },
      "text/plain": [
       "VBox()"
      ]
     },
     "metadata": {},
     "output_type": "display_data"
    },
    {
     "data": {
      "application/vnd.jupyter.widget-view+json": {
       "model_id": "",
       "version_major": 2,
       "version_minor": 0
      },
      "text/plain": [
       "FloatProgress(value=0.0, bar_style='info', description='Progress:', layout=Layout(height='25px', width='50%'),…"
      ]
     },
     "metadata": {},
     "output_type": "display_data"
    },
    {
     "name": "stdout",
     "output_type": "stream",
     "text": [
      "Collecting plotly==5.5.0\n",
      "  Using cached https://files.pythonhosted.org/packages/b3/f4/23d4a698db9fe772f7fdf40ac17b743c4b0d80274732c59db5bd45acb3be/plotly-5.5.0-py2.py3-none-any.whl\n",
      "Collecting tenacity>=6.2.0 (from plotly==5.5.0)\n",
      "  Using cached https://files.pythonhosted.org/packages/e7/b0/c23bd61e1b32c9b96fbca996c87784e196a812da8d621d8d04851f6c8181/tenacity-8.2.2-py3-none-any.whl\n",
      "Requirement already satisfied: six in /usr/local/lib/python3.7/site-packages (from plotly==5.5.0)\n",
      "Installing collected packages: tenacity, plotly\n",
      "Successfully installed plotly-5.5.0 tenacity-8.2.2\n",
      "\n",
      "Collecting pandas==0.25.1\n",
      "  Using cached https://files.pythonhosted.org/packages/7e/ab/ea76361f9d3e732e114adcd801d2820d5319c23d0ac5482fa3b412db217e/pandas-0.25.1-cp37-cp37m-manylinux1_x86_64.whl\n",
      "Requirement already satisfied: numpy>=1.13.3 in /usr/local/lib64/python3.7/site-packages (from pandas==0.25.1)\n",
      "Collecting python-dateutil>=2.6.1 (from pandas==0.25.1)\n",
      "  Using cached https://files.pythonhosted.org/packages/36/7a/87837f39d0296e723bb9b62bbb257d0355c7f6128853c78955f57342a56d/python_dateutil-2.8.2-py2.py3-none-any.whl\n",
      "Requirement already satisfied: pytz>=2017.2 in /usr/local/lib/python3.7/site-packages (from pandas==0.25.1)\n",
      "Requirement already satisfied: six>=1.5 in /usr/local/lib/python3.7/site-packages (from python-dateutil>=2.6.1->pandas==0.25.1)\n",
      "Installing collected packages: python-dateutil, pandas\n",
      "Successfully installed pandas-0.25.1 python-dateutil-2.8.2\n",
      "\n",
      "Collecting numpy==1.14.5\n",
      "  Using cached https://files.pythonhosted.org/packages/3f/e7/7f24ef402a5766c677683e313c5595137d754cb9eb1c99627803280e79d5/numpy-1.14.5-cp37-cp37m-manylinux1_x86_64.whl\n",
      "Installing collected packages: numpy\n",
      "  Found existing installation: numpy 1.20.0\n",
      "    Not uninstalling numpy at /usr/local/lib64/python3.7/site-packages, outside environment /tmp/1687675998234-0\n",
      "Successfully installed numpy-1.14.5\n",
      "\n",
      "Collecting matplotlib==3.1.1\n",
      "  Using cached https://files.pythonhosted.org/packages/19/7a/60bd79c5d79559150f8bba866dd7d434f0a170312e4d15e8aefa5faba294/matplotlib-3.1.1-cp37-cp37m-manylinux1_x86_64.whl\n",
      "Collecting pyparsing!=2.0.4,!=2.1.2,!=2.1.6,>=2.0.1 (from matplotlib==3.1.1)\n",
      "  Using cached https://files.pythonhosted.org/packages/a4/24/6ae4c9c45cf99d96b06b5d99e25526c060303171fb0aea9da2bfd7dbde93/pyparsing-3.1.0-py3-none-any.whl\n",
      "Requirement already satisfied: python-dateutil>=2.1 in /mnt/tmp/1687675998234-0/lib/python3.7/site-packages (from matplotlib==3.1.1)\n",
      "Requirement already satisfied: numpy>=1.11 in /mnt/tmp/1687675998234-0/lib/python3.7/site-packages (from matplotlib==3.1.1)\n",
      "Collecting cycler>=0.10 (from matplotlib==3.1.1)\n",
      "  Using cached https://files.pythonhosted.org/packages/5c/f9/695d6bedebd747e5eb0fe8fad57b72fdf25411273a39791cde838d5a8f51/cycler-0.11.0-py3-none-any.whl\n",
      "Collecting kiwisolver>=1.0.1 (from matplotlib==3.1.1)\n",
      "  Using cached https://files.pythonhosted.org/packages/ab/8f/8dbe2d4efc4c0b08ec67d6efb7cc31fbfd688c80afad85f65980633b0d37/kiwisolver-1.4.4-cp37-cp37m-manylinux_2_5_x86_64.manylinux1_x86_64.whl\n",
      "Requirement already satisfied: six>=1.5 in /usr/local/lib/python3.7/site-packages (from python-dateutil>=2.1->matplotlib==3.1.1)\n",
      "Collecting typing-extensions; python_version < \"3.8\" (from kiwisolver>=1.0.1->matplotlib==3.1.1)\n",
      "  Using cached https://files.pythonhosted.org/packages/5f/86/d9b1518d8e75b346a33eb59fa31bdbbee11459a7e2cc5be502fa779e96c5/typing_extensions-4.6.3-py3-none-any.whl\n",
      "Installing collected packages: pyparsing, cycler, typing-extensions, kiwisolver, matplotlib\n",
      "Successfully installed cycler-0.11.0 kiwisolver-1.4.4 matplotlib-3.1.1 pyparsing-3.1.0 typing-extensions-4.6.3\n",
      "\n",
      "You are using pip version 9.0.1, however version 23.1.2 is available.\n",
      "You should consider upgrading via the 'pip install --upgrade pip' command.\n",
      "\n",
      "You are using pip version 9.0.1, however version 23.1.2 is available.\n",
      "You should consider upgrading via the 'pip install --upgrade pip' command.\n",
      "\n",
      "You are using pip version 9.0.1, however version 23.1.2 is available.\n",
      "You should consider upgrading via the 'pip install --upgrade pip' command.\n",
      "\n",
      "You are using pip version 9.0.1, however version 23.1.2 is available.\n",
      "You should consider upgrading via the 'pip install --upgrade pip' command."
     ]
    }
   ],
   "source": [
    "# Run this everytime you create a new spark instance. \n",
    "\n",
    "spark.sparkContext.install_pypi_package(\"plotly==5.5.0\")\n",
    "spark.sparkContext.install_pypi_package(\"pandas==0.25.1\")\n",
    "spark.sparkContext.install_pypi_package(\"numpy==1.14.5\")\n",
    "spark.sparkContext.install_pypi_package(\"matplotlib==3.1.1\")\n"
   ]
  },
  {
   "cell_type": "code",
   "execution_count": 5,
   "id": "a2228500",
   "metadata": {},
   "outputs": [
    {
     "data": {
      "application/vnd.jupyter.widget-view+json": {
       "model_id": "e4a136b8d6f94c6ea15a6d87ddcebb88",
       "version_major": 2,
       "version_minor": 0
      },
      "text/plain": [
       "VBox()"
      ]
     },
     "metadata": {},
     "output_type": "display_data"
    },
    {
     "data": {
      "application/vnd.jupyter.widget-view+json": {
       "model_id": "",
       "version_major": 2,
       "version_minor": 0
      },
      "text/plain": [
       "FloatProgress(value=0.0, bar_style='info', description='Progress:', layout=Layout(height='25px', width='50%'),…"
      ]
     },
     "metadata": {},
     "output_type": "display_data"
    },
    {
     "name": "stdout",
     "output_type": "stream",
     "text": [
      "Collecting s3fs==2023.6.0\n",
      "\n",
      "  Could not find a version that satisfies the requirement s3fs==2023.6.0 (from versions: 0.0.1, 0.0.2, 0.0.4, 0.0.5, 0.0.6, 0.0.7, 0.0.8, 0.0.9, 0.1.0, 0.1.1, 0.1.2, 0.1.3, 0.1.4, 0.1.5, 0.1.6, 0.2.0, 0.2.1, 0.2.2, 0.3.0, 0.3.1, 0.3.2, 0.3.3, 0.3.4, 0.3.5, 0.4.0, 0.4.1, 0.4.2, 0.5.0, 0.5.1, 0.5.2, 0.6.0, 2021.4.0, 2021.5.0, 2021.6.0, 2021.6.1, 2021.7.0, 2021.8.0, 2021.8.1, 2021.9.0, 2021.10.0, 2021.10.1, 2021.11.0, 2021.11.1, 2022.1.0, 2022.2.0, 2022.3.0, 2022.5.0, 2022.7.0, 2022.7.1, 2022.8.0, 2022.8.1, 2022.8.2, 2022.10.0, 2022.11.0, 2023.1.0)\n",
      "No matching distribution found for s3fs==2023.6.0\n",
      "You are using pip version 9.0.1, however version 23.1.2 is available.\n",
      "You should consider upgrading via the 'pip install --upgrade pip' command."
     ]
    }
   ],
   "source": [
    "spark.sparkContext.install_pypi_package(\"s3fs==2023.6.0\")"
   ]
  },
  {
   "cell_type": "code",
   "execution_count": 6,
   "id": "3745fadf",
   "metadata": {},
   "outputs": [
    {
     "data": {
      "application/vnd.jupyter.widget-view+json": {
       "model_id": "8364af37e6e6431c991165c3d3c332f6",
       "version_major": 2,
       "version_minor": 0
      },
      "text/plain": [
       "VBox()"
      ]
     },
     "metadata": {},
     "output_type": "display_data"
    },
    {
     "data": {
      "application/vnd.jupyter.widget-view+json": {
       "model_id": "",
       "version_major": 2,
       "version_minor": 0
      },
      "text/plain": [
       "FloatProgress(value=0.0, bar_style='info', description='Progress:', layout=Layout(height='25px', width='50%'),…"
      ]
     },
     "metadata": {},
     "output_type": "display_data"
    }
   ],
   "source": [
    "# import necessary libraries \n",
    "import pandas as pd\n",
    "import numpy as np"
   ]
  },
  {
   "cell_type": "code",
   "execution_count": 7,
   "id": "4236d118",
   "metadata": {},
   "outputs": [
    {
     "data": {
      "application/vnd.jupyter.widget-view+json": {
       "model_id": "38fe7cd164ad43c4849739e8d5916be5",
       "version_major": 2,
       "version_minor": 0
      },
      "text/plain": [
       "VBox()"
      ]
     },
     "metadata": {},
     "output_type": "display_data"
    },
    {
     "data": {
      "application/vnd.jupyter.widget-view+json": {
       "model_id": "",
       "version_major": 2,
       "version_minor": 0
      },
      "text/plain": [
       "FloatProgress(value=0.0, bar_style='info', description='Progress:', layout=Layout(height='25px', width='50%'),…"
      ]
     },
     "metadata": {},
     "output_type": "display_data"
    }
   ],
   "source": [
    "from pyspark.ml.recommendation import ALS\n",
    "from pyspark.ml.evaluation import RegressionEvaluator"
   ]
  },
  {
   "cell_type": "code",
   "execution_count": 8,
   "id": "2092fb37",
   "metadata": {},
   "outputs": [
    {
     "data": {
      "application/vnd.jupyter.widget-view+json": {
       "model_id": "8336cb9a4306433585407a03b0e72a50",
       "version_major": 2,
       "version_minor": 0
      },
      "text/plain": [
       "VBox()"
      ]
     },
     "metadata": {},
     "output_type": "display_data"
    },
    {
     "data": {
      "application/vnd.jupyter.widget-view+json": {
       "model_id": "",
       "version_major": 2,
       "version_minor": 0
      },
      "text/plain": [
       "FloatProgress(value=0.0, bar_style='info', description='Progress:', layout=Layout(height='25px', width='50%'),…"
      ]
     },
     "metadata": {},
     "output_type": "display_data"
    }
   ],
   "source": [
    "from pyspark.sql import functions as F\n",
    "from pyspark.sql.types import IntegerType,BooleanType,DateType,FloatType,StringType, ArrayType"
   ]
  },
  {
   "cell_type": "markdown",
   "id": "fa7fa7f2",
   "metadata": {},
   "source": [
    "## Read the data"
   ]
  },
  {
   "cell_type": "code",
   "execution_count": 9,
   "id": "52d99b28",
   "metadata": {},
   "outputs": [
    {
     "data": {
      "application/vnd.jupyter.widget-view+json": {
       "model_id": "443c1bc4e55840868f6b6813e29f362f",
       "version_major": 2,
       "version_minor": 0
      },
      "text/plain": [
       "VBox()"
      ]
     },
     "metadata": {},
     "output_type": "display_data"
    },
    {
     "data": {
      "application/vnd.jupyter.widget-view+json": {
       "model_id": "",
       "version_major": 2,
       "version_minor": 0
      },
      "text/plain": [
       "FloatProgress(value=0.0, bar_style='info', description='Progress:', layout=Layout(height='25px', width='50%'),…"
      ]
     },
     "metadata": {},
     "output_type": "display_data"
    }
   ],
   "source": [
    "train_ratings_df = spark.read.parquet('s3://aws-emr-resources-757926750210-us-east-1/train_interaction_level_df.parquet') # Replace the given path with the path"
   ]
  },
  {
   "cell_type": "code",
   "execution_count": 10,
   "id": "f90b08ae",
   "metadata": {},
   "outputs": [
    {
     "data": {
      "application/vnd.jupyter.widget-view+json": {
       "model_id": "bb1657623b574b9fb6c8ec4899d997e8",
       "version_major": 2,
       "version_minor": 0
      },
      "text/plain": [
       "VBox()"
      ]
     },
     "metadata": {},
     "output_type": "display_data"
    },
    {
     "data": {
      "application/vnd.jupyter.widget-view+json": {
       "model_id": "",
       "version_major": 2,
       "version_minor": 0
      },
      "text/plain": [
       "FloatProgress(value=0.0, bar_style='info', description='Progress:', layout=Layout(height='25px', width='50%'),…"
      ]
     },
     "metadata": {},
     "output_type": "display_data"
    },
    {
     "name": "stdout",
     "output_type": "stream",
     "text": [
      "+-------+---------+------+--------------------+-------------------+--------------------+-----+-------+--------------+-------------------+--------------------+--------------------+-------+--------------------+--------------------+--------------------+-------------+--------------+\n",
      "|user_id|recipe_id|rating|              review|        review_date|                name|   id|minutes|contributor_id|          submitted|                tags|           nutrition|n_steps|               steps|         description|         ingredients|n_ingredients|year_of_review|\n",
      "+-------+---------+------+--------------------+-------------------+--------------------+-----+-------+--------------+-------------------+--------------------+--------------------+-------+--------------------+--------------------+--------------------+-------------+--------------+\n",
      "| 180507|     5084|     4|Very similar to t...|2005-10-04 00:00:00|granny s chicken ...| 5084|      0|          1534|1999-12-01 00:00:00|['15-minutes-or-l...|[2106.0, 134.0, 1...|     12|['clean chicken',...|this recipe is we...|['fryer', 'water'...|           10|          1999|\n",
      "|  26058|    14160|     4|This is good. Eas...|2003-05-08 00:00:00|   spicy potato soup|14160|     26|         21641|2001-11-13 00:00:00|['weeknight', '30...|[273.1, 17.0, 24....|      6|['in a dutch oven...|my husband loves ...|['ground beef', '...|            8|          2001|\n",
      "|  47510|    14160|     4|This soup  served...|2004-04-14 00:00:00|   spicy potato soup|14160|     26|         21641|2001-11-13 00:00:00|['weeknight', '30...|[273.1, 17.0, 24....|      6|['in a dutch oven...|my husband loves ...|['ground beef', '...|            8|          2001|\n",
      "| 246936|    14160|     5|I make this all t...|2006-11-20 00:00:00|   spicy potato soup|14160|     26|         21641|2001-11-13 00:00:00|['weeknight', '30...|[273.1, 17.0, 24....|      6|['in a dutch oven...|my husband loves ...|['ground beef', '...|            8|          2001|\n",
      "| 462745|    14160|     5|This is one of my...|2007-08-01 00:00:00|   spicy potato soup|14160|     26|         21641|2001-11-13 00:00:00|['weeknight', '30...|[273.1, 17.0, 24....|      6|['in a dutch oven...|my husband loves ...|['ground beef', '...|            8|          2001|\n",
      "| 250031|    14160|     5|7/6/2008: This is...|2009-10-01 00:00:00|   spicy potato soup|14160|     26|         21641|2001-11-13 00:00:00|['weeknight', '30...|[273.1, 17.0, 24....|      6|['in a dutch oven...|my husband loves ...|['ground beef', '...|            8|          2001|\n",
      "| 540548|    14160|     5|This is very tast...|2009-11-22 00:00:00|   spicy potato soup|14160|     26|         21641|2001-11-13 00:00:00|['weeknight', '30...|[273.1, 17.0, 24....|      6|['in a dutch oven...|my husband loves ...|['ground beef', '...|            8|          2001|\n",
      "| 510022|    14160|     5|I love this recip...|2010-01-18 00:00:00|   spicy potato soup|14160|     26|         21641|2001-11-13 00:00:00|['weeknight', '30...|[273.1, 17.0, 24....|      6|['in a dutch oven...|my husband loves ...|['ground beef', '...|            8|          2001|\n",
      "|  31499|    16024|     5|This was really g...|2002-07-08 00:00:00|  vidalia onion tart|16024|     40|         10404|2001-12-19 00:00:00|['60-minutes-or-l...|[297.9, 33.0, 7.0...|      7|['preheat oven to...|a nice main dish ...|['pie crust', 'vi...|            6|          2001|\n",
      "| 678831|    16024|     5|OHHHhhhh  THANK U...|2009-07-07 00:00:00|  vidalia onion tart|16024|     40|         10404|2001-12-19 00:00:00|['60-minutes-or-l...|[297.9, 33.0, 7.0...|      7|['preheat oven to...|a nice main dish ...|['pie crust', 'vi...|            6|          2001|\n",
      "+-------+---------+------+--------------------+-------------------+--------------------+-----+-------+--------------+-------------------+--------------------+--------------------+-------+--------------------+--------------------+--------------------+-------------+--------------+\n",
      "only showing top 10 rows"
     ]
    }
   ],
   "source": [
    "train_ratings_df.show(10)"
   ]
  },
  {
   "cell_type": "code",
   "execution_count": 11,
   "id": "2024b7c5",
   "metadata": {},
   "outputs": [
    {
     "data": {
      "application/vnd.jupyter.widget-view+json": {
       "model_id": "287c42fcd4374ffc9833ea07c64bf97c",
       "version_major": 2,
       "version_minor": 0
      },
      "text/plain": [
       "VBox()"
      ]
     },
     "metadata": {},
     "output_type": "display_data"
    },
    {
     "data": {
      "application/vnd.jupyter.widget-view+json": {
       "model_id": "",
       "version_major": 2,
       "version_minor": 0
      },
      "text/plain": [
       "FloatProgress(value=0.0, bar_style='info', description='Progress:', layout=Layout(height='25px', width='50%'),…"
      ]
     },
     "metadata": {},
     "output_type": "display_data"
    }
   ],
   "source": [
    "test_ratings_all_df  = spark.read.parquet('s3://aws-emr-resources-757926750210-us-east-1/test_interaction_level_df.parquet') # Replace the given path with the path for your file\n"
   ]
  },
  {
   "cell_type": "code",
   "execution_count": 12,
   "id": "a0f35c13",
   "metadata": {},
   "outputs": [
    {
     "data": {
      "application/vnd.jupyter.widget-view+json": {
       "model_id": "a5846f67432846af94573d2cac508e60",
       "version_major": 2,
       "version_minor": 0
      },
      "text/plain": [
       "VBox()"
      ]
     },
     "metadata": {},
     "output_type": "display_data"
    },
    {
     "data": {
      "application/vnd.jupyter.widget-view+json": {
       "model_id": "",
       "version_major": 2,
       "version_minor": 0
      },
      "text/plain": [
       "FloatProgress(value=0.0, bar_style='info', description='Progress:', layout=Layout(height='25px', width='50%'),…"
      ]
     },
     "metadata": {},
     "output_type": "display_data"
    },
    {
     "name": "stdout",
     "output_type": "stream",
     "text": [
      "+-------+---------+------+--------------------+-------------------+--------------------+------+-------+--------------+-------------------+--------------------+--------------------+-------+--------------------+--------------------+--------------------+-------------+--------------+\n",
      "|user_id|recipe_id|rating|              review|        review_date|                name|    id|minutes|contributor_id|          submitted|                tags|           nutrition|n_steps|               steps|         description|         ingredients|n_ingredients|year_of_review|\n",
      "+-------+---------+------+--------------------+-------------------+--------------------+------+-------+--------------+-------------------+--------------------+--------------------+-------+--------------------+--------------------+--------------------+-------------+--------------+\n",
      "| 222564|   301798|     5|DIVINE! I didn&#0...|2014-05-11 00:00:00|bow tie pasta wit...|301798|     35|        324390|2008-05-01 00:00:00|['60-minutes-or-l...|[775.5, 51.0, 18....|     16|['put the pine nu...|although this ser...|['pine nuts', 'ko...|           12|          2008|\n",
      "|2894019|    31988|     5|This is super eas...|2013-07-08 00:00:00|    beans and greens| 31988|     30|         12118|2002-06-23 00:00:00|['30-minutes-or-l...|[321.8, 13.0, 15....|      6|['wash lettuce we...|my italian aunt o...|['garlic cloves',...|            9|          2002|\n",
      "|1271506|    31988|     5|We lived outside ...|2012-05-02 00:00:00|    beans and greens| 31988|     30|         12118|2002-06-23 00:00:00|['30-minutes-or-l...|[321.8, 13.0, 15....|      6|['wash lettuce we...|my italian aunt o...|['garlic cloves',...|            9|          2002|\n",
      "| 647495|    31988|     5|I use Kale and it...|2012-03-10 00:00:00|    beans and greens| 31988|     30|         12118|2002-06-23 00:00:00|['30-minutes-or-l...|[321.8, 13.0, 15....|      6|['wash lettuce we...|my italian aunt o...|['garlic cloves',...|            9|          2002|\n",
      "|  85018|    31988|     5|Sorry I forgot to...|2011-11-28 00:00:00|    beans and greens| 31988|     30|         12118|2002-06-23 00:00:00|['30-minutes-or-l...|[321.8, 13.0, 15....|      6|['wash lettuce we...|my italian aunt o...|['garlic cloves',...|            9|          2002|\n",
      "+-------+---------+------+--------------------+-------------------+--------------------+------+-------+--------------+-------------------+--------------------+--------------------+-------+--------------------+--------------------+--------------------+-------------+--------------+\n",
      "only showing top 5 rows"
     ]
    }
   ],
   "source": [
    "test_ratings_all_df.show(5)"
   ]
  },
  {
   "cell_type": "code",
   "execution_count": 13,
   "id": "7869ebd4",
   "metadata": {},
   "outputs": [
    {
     "data": {
      "application/vnd.jupyter.widget-view+json": {
       "model_id": "0960d563f8c049adba9b5107ce1a9236",
       "version_major": 2,
       "version_minor": 0
      },
      "text/plain": [
       "VBox()"
      ]
     },
     "metadata": {},
     "output_type": "display_data"
    },
    {
     "data": {
      "application/vnd.jupyter.widget-view+json": {
       "model_id": "",
       "version_major": 2,
       "version_minor": 0
      },
      "text/plain": [
       "FloatProgress(value=0.0, bar_style='info', description='Progress:', layout=Layout(height='25px', width='50%'),…"
      ]
     },
     "metadata": {},
     "output_type": "display_data"
    }
   ],
   "source": [
    "raw_recipes_df = spark.read.csv(\"s3a://raw-recipes-clean-upgrad/RAW_recipes_cleaned.csv\") # Replace the given path with the path for your file\n",
    "                            "
   ]
  },
  {
   "cell_type": "code",
   "execution_count": 14,
   "id": "9960bdae",
   "metadata": {},
   "outputs": [
    {
     "data": {
      "application/vnd.jupyter.widget-view+json": {
       "model_id": "baec4f6e175b49d9b5f85986e329cb3d",
       "version_major": 2,
       "version_minor": 0
      },
      "text/plain": [
       "VBox()"
      ]
     },
     "metadata": {},
     "output_type": "display_data"
    },
    {
     "data": {
      "application/vnd.jupyter.widget-view+json": {
       "model_id": "",
       "version_major": 2,
       "version_minor": 0
      },
      "text/plain": [
       "FloatProgress(value=0.0, bar_style='info', description='Progress:', layout=Layout(height='25px', width='50%'),…"
      ]
     },
     "metadata": {},
     "output_type": "display_data"
    },
    {
     "name": "stdout",
     "output_type": "stream",
     "text": [
      "+--------------------+------+-------+--------------+----------+--------------------+--------------------+-------+--------------------+--------------------+--------------------+-------------+\n",
      "|                 _c0|   _c1|    _c2|           _c3|       _c4|                 _c5|                 _c6|    _c7|                 _c8|                 _c9|                _c10|         _c11|\n",
      "+--------------------+------+-------+--------------+----------+--------------------+--------------------+-------+--------------------+--------------------+--------------------+-------------+\n",
      "|                name|    id|minutes|contributor_id| submitted|                tags|           nutrition|n_steps|               steps|         description|         ingredients|n_ingredients|\n",
      "|arriba   baked wi...|137739|     55|         47892|2005-09-16|['60-minutes-or-l...|[51.5, 0.0, 13.0,...|     11|['make a choice a...|autumn is my favo...|['winter squash',...|            7|\n",
      "|a bit different  ...| 31490|     30|         26278|2002-06-17|['30-minutes-or-l...|[173.4, 18.0, 0.0...|      9|['preheat oven to...|this recipe calls...|['prepared pizza ...|            6|\n",
      "|all in the kitche...|112140|    130|        196586|2005-02-25|['time-to-make', ...|[269.8, 22.0, 32....|      6|['brown ground be...|this modified ver...|['ground beef', '...|           13|\n",
      "|  alouette  potatoes| 59389|     45|         68585|2003-04-14|['60-minutes-or-l...|[368.1, 17.0, 10....|     11|['place potatoes ...|this is a super e...|['spreadable chee...|           11|\n",
      "+--------------------+------+-------+--------------+----------+--------------------+--------------------+-------+--------------------+--------------------+--------------------+-------------+\n",
      "only showing top 5 rows"
     ]
    }
   ],
   "source": [
    "raw_recipes_df.show(5)"
   ]
  },
  {
   "cell_type": "code",
   "execution_count": 15,
   "id": "51f5acbc",
   "metadata": {},
   "outputs": [
    {
     "data": {
      "application/vnd.jupyter.widget-view+json": {
       "model_id": "cf0d3059481f4377a1fa704944915cfc",
       "version_major": 2,
       "version_minor": 0
      },
      "text/plain": [
       "VBox()"
      ]
     },
     "metadata": {},
     "output_type": "display_data"
    },
    {
     "data": {
      "application/vnd.jupyter.widget-view+json": {
       "model_id": "",
       "version_major": 2,
       "version_minor": 0
      },
      "text/plain": [
       "FloatProgress(value=0.0, bar_style='info', description='Progress:', layout=Layout(height='25px', width='50%'),…"
      ]
     },
     "metadata": {},
     "output_type": "display_data"
    },
    {
     "name": "stdout",
     "output_type": "stream",
     "text": [
      "['_c0', '_c1', '_c2', '_c3', '_c4', '_c5', '_c6', '_c7', '_c8', '_c9', '_c10', '_c11']"
     ]
    }
   ],
   "source": [
    "raw_recipes_df.columns"
   ]
  },
  {
   "cell_type": "code",
   "execution_count": 16,
   "id": "7d1407f9",
   "metadata": {},
   "outputs": [
    {
     "data": {
      "application/vnd.jupyter.widget-view+json": {
       "model_id": "3a55480c641e4c4ea9da28dbca4ebb50",
       "version_major": 2,
       "version_minor": 0
      },
      "text/plain": [
       "VBox()"
      ]
     },
     "metadata": {},
     "output_type": "display_data"
    },
    {
     "data": {
      "application/vnd.jupyter.widget-view+json": {
       "model_id": "",
       "version_major": 2,
       "version_minor": 0
      },
      "text/plain": [
       "FloatProgress(value=0.0, bar_style='info', description='Progress:', layout=Layout(height='25px', width='50%'),…"
      ]
     },
     "metadata": {},
     "output_type": "display_data"
    },
    {
     "name": "stdout",
     "output_type": "stream",
     "text": [
      "The training dataframe is  99.9829264% empty."
     ]
    }
   ],
   "source": [
    "# Count the total number of ratings in the dataset\n",
    "numerator = train_ratings_df.select(\"rating\").count()\n",
    "\n",
    "# Count the number of distinct userIds and distinct recipe_Ids\n",
    "num_users =train_ratings_df.select(\"user_id\").distinct().count() # find the number of unique users in the training data. The output must be an integer\n",
    "num_recipes =train_ratings_df.select(\"recipe_id\").distinct().count() # find the number of unique recipes in the training data. The output must be an integer\n",
    "\n",
    "# Set the denominator equal to the number of users multiplied by the number of movies\n",
    "denominator = num_users * num_recipes\n",
    "\n",
    "# Divide the numerator by the denominator\n",
    "sparsity = (1.0 - (numerator *1.0)/denominator)*100\n",
    "print(\"The training dataframe is \", \"%.7f\" % sparsity + \"% empty.\")"
   ]
  },
  {
   "cell_type": "markdown",
   "id": "d8509628",
   "metadata": {},
   "source": [
    "## Functions"
   ]
  },
  {
   "cell_type": "code",
   "execution_count": 17,
   "id": "6dc54ea0",
   "metadata": {},
   "outputs": [
    {
     "data": {
      "application/vnd.jupyter.widget-view+json": {
       "model_id": "0eed2052e5fd40c3818bd56bf8f57b80",
       "version_major": 2,
       "version_minor": 0
      },
      "text/plain": [
       "VBox()"
      ]
     },
     "metadata": {},
     "output_type": "display_data"
    },
    {
     "data": {
      "application/vnd.jupyter.widget-view+json": {
       "model_id": "",
       "version_major": 2,
       "version_minor": 0
      },
      "text/plain": [
       "FloatProgress(value=0.0, bar_style='info', description='Progress:', layout=Layout(height='25px', width='50%'),…"
      ]
     },
     "metadata": {},
     "output_type": "display_data"
    }
   ],
   "source": [
    "def manual_recommendation_check (user_id):\n",
    "  '''\n",
    "  Given a user ID form the test dataset, this function will return the names of the recipes recommended to the user. \n",
    "\n",
    "  Initialize this function after the all_recs data frame is calculated. \n",
    "\n",
    "  Input user_id of a user from the test set as an integer.  \n",
    "  Prints the names of recipes recommended to this user. \n",
    "  Returns nothing. \n",
    "  '''\n",
    "  recs_user = all_recs_als[all_recs_als.user == user_id]\n",
    "  recs_user_list = list(recs_user.item.values)\n",
    "  recs_user_list = [x.item() for x in recs_user_list]\n",
    "  display((raw_recipes_df.filter(F.col('id').isin(recs_user_list))\n",
    "               .select(\"name\")\n",
    "               .collect()\n",
    "               ))"
   ]
  },
  {
   "cell_type": "markdown",
   "id": "224388c5",
   "metadata": {},
   "source": [
    "## Model"
   ]
  },
  {
   "cell_type": "markdown",
   "id": "f8584e79",
   "metadata": {},
   "source": [
    "#### Task 02 - Collaborative Filtering Model\n",
    "\n",
    "Add the argument details in the algorithm initialization below to build the ALS model."
   ]
  },
  {
   "cell_type": "code",
   "execution_count": 18,
   "id": "c7fe3058",
   "metadata": {},
   "outputs": [
    {
     "data": {
      "application/vnd.jupyter.widget-view+json": {
       "model_id": "8402f0d172314618a598f710cc6c2df4",
       "version_major": 2,
       "version_minor": 0
      },
      "text/plain": [
       "VBox()"
      ]
     },
     "metadata": {},
     "output_type": "display_data"
    },
    {
     "data": {
      "application/vnd.jupyter.widget-view+json": {
       "model_id": "",
       "version_major": 2,
       "version_minor": 0
      },
      "text/plain": [
       "FloatProgress(value=0.0, bar_style='info', description='Progress:', layout=Layout(height='25px', width='50%'),…"
      ]
     },
     "metadata": {},
     "output_type": "display_data"
    }
   ],
   "source": [
    "# Create ALS model\n",
    "als = ALS(userCol=\"user_id\" , # add the name of the column for users  \n",
    "          itemCol=\"recipe_id\", # add the name of the column for recipes\n",
    "          ratingCol=\"rating\", # add the name of the column for ratings \n",
    "          nonnegative = True, \n",
    "          implicitPrefs = False, \n",
    "          coldStartStrategy=\"drop\"\n",
    "         )"
   ]
  },
  {
   "cell_type": "markdown",
   "id": "23ec1bf7",
   "metadata": {},
   "source": [
    "#### Training"
   ]
  },
  {
   "cell_type": "code",
   "execution_count": 19,
   "id": "0571d1d9",
   "metadata": {},
   "outputs": [
    {
     "data": {
      "application/vnd.jupyter.widget-view+json": {
       "model_id": "4e158f00594a4f48b85c9bb79eb7cef7",
       "version_major": 2,
       "version_minor": 0
      },
      "text/plain": [
       "VBox()"
      ]
     },
     "metadata": {},
     "output_type": "display_data"
    },
    {
     "data": {
      "application/vnd.jupyter.widget-view+json": {
       "model_id": "",
       "version_major": 2,
       "version_minor": 0
      },
      "text/plain": [
       "FloatProgress(value=0.0, bar_style='info', description='Progress:', layout=Layout(height='25px', width='50%'),…"
      ]
     },
     "metadata": {},
     "output_type": "display_data"
    }
   ],
   "source": [
    "#Fit the model to the 'train' dataset\n",
    "model = als.fit(train_ratings_df)"
   ]
  },
  {
   "cell_type": "markdown",
   "id": "410c80c2",
   "metadata": {},
   "source": [
    "## Prediction "
   ]
  },
  {
   "cell_type": "code",
   "execution_count": 20,
   "id": "30873d9a",
   "metadata": {},
   "outputs": [
    {
     "data": {
      "application/vnd.jupyter.widget-view+json": {
       "model_id": "2b9e1428e8c74e5fa49abc85fd364e93",
       "version_major": 2,
       "version_minor": 0
      },
      "text/plain": [
       "VBox()"
      ]
     },
     "metadata": {},
     "output_type": "display_data"
    },
    {
     "data": {
      "application/vnd.jupyter.widget-view+json": {
       "model_id": "",
       "version_major": 2,
       "version_minor": 0
      },
      "text/plain": [
       "FloatProgress(value=0.0, bar_style='info', description='Progress:', layout=Layout(height='25px', width='50%'),…"
      ]
     },
     "metadata": {},
     "output_type": "display_data"
    }
   ],
   "source": [
    "# use the model to create predictions for test data\n",
    "test_predictions_unseen =model.transform(test_ratings_all_df)  # add a statment to tranform the test data"
   ]
  },
  {
   "cell_type": "code",
   "execution_count": 21,
   "id": "7d636733",
   "metadata": {},
   "outputs": [
    {
     "data": {
      "application/vnd.jupyter.widget-view+json": {
       "model_id": "7599ef62b5fb4ee79a8d4067299c32b6",
       "version_major": 2,
       "version_minor": 0
      },
      "text/plain": [
       "VBox()"
      ]
     },
     "metadata": {},
     "output_type": "display_data"
    },
    {
     "data": {
      "application/vnd.jupyter.widget-view+json": {
       "model_id": "",
       "version_major": 2,
       "version_minor": 0
      },
      "text/plain": [
       "FloatProgress(value=0.0, bar_style='info', description='Progress:', layout=Layout(height='25px', width='50%'),…"
      ]
     },
     "metadata": {},
     "output_type": "display_data"
    },
    {
     "name": "stdout",
     "output_type": "stream",
     "text": [
      "+-------+---------+------+--------------------+-------------------+--------------------+------+-------+--------------+-------------------+--------------------+--------------------+-------+--------------------+--------------------+--------------------+-------------+--------------+----------+\n",
      "|user_id|recipe_id|rating|              review|        review_date|                name|    id|minutes|contributor_id|          submitted|                tags|           nutrition|n_steps|               steps|         description|         ingredients|n_ingredients|year_of_review|prediction|\n",
      "+-------+---------+------+--------------------+-------------------+--------------------+------+-------+--------------+-------------------+--------------------+--------------------+-------+--------------------+--------------------+--------------------+-------------+--------------+----------+\n",
      "|  56680|   229831|     5|Perfection  made ...|2013-11-03 00:00:00|tavern beer batte...|229831|     15|        339260|2007-05-23 00:00:00|['15-minutes-or-l...|[2330.9, 343.0, 1...|      8|['in a medium bow...|this recipe is fr...|['eggs', 'beer', ...|           12|          2007| 4.5213604|\n",
      "|  65308|   139797|     5|        Really good.|2015-12-18 00:00:00|pan seared shrimp...|139797|     20|        229619|2005-10-03 00:00:00|['30-minutes-or-l...|[260.8, 26.0, 1.0...|     13|['beat butter wit...|this is so good a...|['butter', 'garli...|            9|          2005| 3.7124462|\n",
      "|  65308|    51088|     0|This was really g...|2012-10-28 00:00:00|scarface   chicke...| 51088|     35|         49304|2003-01-13 00:00:00|['60-minutes-or-l...|[1263.9, 150.0, 8...|     14|['in a non-stick ...|this is a very go...|['chicken breast'...|           10|          2003|  4.332805|\n",
      "|  65308|   354072|     5|I must admit I wa...|2015-09-01 00:00:00|thai salmon on as...|354072|     25|        133174|2009-02-05 00:00:00|['30-minutes-or-l...|[706.4, 77.0, 30....|     16|['place all the d...|a seared salmon f...|['salmon fillets'...|           16|          2009| 4.0239716|\n",
      "| 657535|    37470|     1|This is not Beau ...|2015-02-08 00:00:00|beau monde season...| 37470|     10|         41480|2002-08-16 00:00:00|['15-minutes-or-l...|[147.2, 6.0, 3.0,...|      2|['process all spi...|popular spice mix...|['ground cloves',...|           10|          2002| 1.4968789|\n",
      "+-------+---------+------+--------------------+-------------------+--------------------+------+-------+--------------+-------------------+--------------------+--------------------+-------+--------------------+--------------------+--------------------+-------------+--------------+----------+\n",
      "only showing top 5 rows"
     ]
    }
   ],
   "source": [
    "test_predictions_unseen.show(5)"
   ]
  },
  {
   "cell_type": "code",
   "execution_count": 22,
   "id": "dc2842fc",
   "metadata": {},
   "outputs": [
    {
     "data": {
      "application/vnd.jupyter.widget-view+json": {
       "model_id": "f1fa8ed6f40641a7905baa362b9f83de",
       "version_major": 2,
       "version_minor": 0
      },
      "text/plain": [
       "VBox()"
      ]
     },
     "metadata": {},
     "output_type": "display_data"
    },
    {
     "data": {
      "application/vnd.jupyter.widget-view+json": {
       "model_id": "",
       "version_major": 2,
       "version_minor": 0
      },
      "text/plain": [
       "FloatProgress(value=0.0, bar_style='info', description='Progress:', layout=Layout(height='25px', width='50%'),…"
      ]
     },
     "metadata": {},
     "output_type": "display_data"
    }
   ],
   "source": [
    "assert test_predictions_unseen.select(F.col(\"prediction\"))"
   ]
  },
  {
   "cell_type": "code",
   "execution_count": 23,
   "id": "51bd00fd",
   "metadata": {},
   "outputs": [
    {
     "data": {
      "application/vnd.jupyter.widget-view+json": {
       "model_id": "de392746192644c1b316a1fea01d41b9",
       "version_major": 2,
       "version_minor": 0
      },
      "text/plain": [
       "VBox()"
      ]
     },
     "metadata": {},
     "output_type": "display_data"
    },
    {
     "data": {
      "application/vnd.jupyter.widget-view+json": {
       "model_id": "",
       "version_major": 2,
       "version_minor": 0
      },
      "text/plain": [
       "FloatProgress(value=0.0, bar_style='info', description='Progress:', layout=Layout(height='25px', width='50%'),…"
      ]
     },
     "metadata": {},
     "output_type": "display_data"
    },
    {
     "name": "stdout",
     "output_type": "stream",
     "text": [
      "+-------+---------+------+----------+\n",
      "|user_id|recipe_id|rating|prediction|\n",
      "+-------+---------+------+----------+\n",
      "|  56680|   229831|     5| 4.5213604|\n",
      "|  65308|   139797|     5| 3.7124462|\n",
      "|  65308|    51088|     0|  4.332805|\n",
      "|  65308|   354072|     5| 4.0239716|\n",
      "| 657535|    37470|     1| 1.4968789|\n",
      "+-------+---------+------+----------+\n",
      "only showing top 5 rows"
     ]
    }
   ],
   "source": [
    "test_predictions_unseen.select(F.col(\"user_id\"),\n",
    "                               F.col(\"recipe_id\"),\n",
    "                               F.col(\"rating\"),\n",
    "                               F.col(\"prediction\")\n",
    "                              ).show(5)"
   ]
  },
  {
   "cell_type": "code",
   "execution_count": 24,
   "id": "646fbf10",
   "metadata": {},
   "outputs": [
    {
     "data": {
      "application/vnd.jupyter.widget-view+json": {
       "model_id": "d1b903fa53cf4f6dbe07a08ddb56e999",
       "version_major": 2,
       "version_minor": 0
      },
      "text/plain": [
       "VBox()"
      ]
     },
     "metadata": {},
     "output_type": "display_data"
    },
    {
     "data": {
      "application/vnd.jupyter.widget-view+json": {
       "model_id": "",
       "version_major": 2,
       "version_minor": 0
      },
      "text/plain": [
       "FloatProgress(value=0.0, bar_style='info', description='Progress:', layout=Layout(height='25px', width='50%'),…"
      ]
     },
     "metadata": {},
     "output_type": "display_data"
    }
   ],
   "source": [
    "# Each user in the test set must have 10 predictions. \n",
    "# Use ALS model to get these predictions. \n",
    "# You can use the recommendForAllUsers() method. \n",
    "\n",
    "recommendations = model.recommendForAllUsers(10) # complete the code "
   ]
  },
  {
   "cell_type": "code",
   "execution_count": 25,
   "id": "43a6eb26",
   "metadata": {},
   "outputs": [
    {
     "data": {
      "application/vnd.jupyter.widget-view+json": {
       "model_id": "8d96ec81f3bc44478e864410d4559be5",
       "version_major": 2,
       "version_minor": 0
      },
      "text/plain": [
       "VBox()"
      ]
     },
     "metadata": {},
     "output_type": "display_data"
    },
    {
     "data": {
      "application/vnd.jupyter.widget-view+json": {
       "model_id": "",
       "version_major": 2,
       "version_minor": 0
      },
      "text/plain": [
       "FloatProgress(value=0.0, bar_style='info', description='Progress:', layout=Layout(height='25px', width='50%'),…"
      ]
     },
     "metadata": {},
     "output_type": "display_data"
    }
   ],
   "source": [
    "assert len(dict(recommendations.select(F.col(\"recommendations\")).collect()[0][0])) == 10"
   ]
  },
  {
   "cell_type": "code",
   "execution_count": 26,
   "id": "a2855377",
   "metadata": {},
   "outputs": [
    {
     "data": {
      "application/vnd.jupyter.widget-view+json": {
       "model_id": "4e6ad0d3359345e0a91e574170315d6d",
       "version_major": 2,
       "version_minor": 0
      },
      "text/plain": [
       "VBox()"
      ]
     },
     "metadata": {},
     "output_type": "display_data"
    },
    {
     "data": {
      "application/vnd.jupyter.widget-view+json": {
       "model_id": "",
       "version_major": 2,
       "version_minor": 0
      },
      "text/plain": [
       "FloatProgress(value=0.0, bar_style='info', description='Progress:', layout=Layout(height='25px', width='50%'),…"
      ]
     },
     "metadata": {},
     "output_type": "display_data"
    }
   ],
   "source": [
    "# Transfroming the results by exploding the recommendations column\n",
    "\n",
    "recommendations = (recommendations.select(F.col(\"user_id\"),\n",
    "                                          F.posexplode(F.col(\"recommendations\")).alias(\"pos\", \"item\")) \n",
    "                                  .select(F.col(\"user_id\"),\n",
    "                                          F.col(\"pos\"), \n",
    "                                          F.col(\"item.recipe_id\").alias(\"recomended_recipe_id\"), \n",
    "                                          F.col(\"item.rating\").alias(\"predicted_rating\")))"
   ]
  },
  {
   "cell_type": "markdown",
   "id": "2a13b2bc",
   "metadata": {},
   "source": [
    "## Evaluation"
   ]
  },
  {
   "cell_type": "markdown",
   "id": "4cf7f1c0",
   "metadata": {},
   "source": [
    "### Task 04 - Model Evaluation\n",
    "\n",
    "#### 1. RMSE\n",
    "\n",
    "Add the argument details to the evaluator function below to calculate the RMSE score of the ALS model. "
   ]
  },
  {
   "cell_type": "code",
   "execution_count": 27,
   "id": "cd8fce9c",
   "metadata": {},
   "outputs": [
    {
     "data": {
      "application/vnd.jupyter.widget-view+json": {
       "model_id": "ba4f4493bd9d4aee8c29a17b6bf81dbd",
       "version_major": 2,
       "version_minor": 0
      },
      "text/plain": [
       "VBox()"
      ]
     },
     "metadata": {},
     "output_type": "display_data"
    },
    {
     "data": {
      "application/vnd.jupyter.widget-view+json": {
       "model_id": "",
       "version_major": 2,
       "version_minor": 0
      },
      "text/plain": [
       "FloatProgress(value=0.0, bar_style='info', description='Progress:', layout=Layout(height='25px', width='50%'),…"
      ]
     },
     "metadata": {},
     "output_type": "display_data"
    }
   ],
   "source": [
    "# Define evaluator as RMSE and print RMSE value\n",
    "evaluator_seen = RegressionEvaluator(metricName=\"rmse\", \n",
    "                                     labelCol=\"rating\" ,  # add the name of the column that has the ratings \n",
    "                                     predictionCol=\"prediction\" # add the name of the column that has the predicted ratings. \n",
    "                                     ) "
   ]
  },
  {
   "cell_type": "code",
   "execution_count": 28,
   "id": "9e484f88",
   "metadata": {},
   "outputs": [
    {
     "data": {
      "application/vnd.jupyter.widget-view+json": {
       "model_id": "1bca56123e59468d8bda8ec642b116f2",
       "version_major": 2,
       "version_minor": 0
      },
      "text/plain": [
       "VBox()"
      ]
     },
     "metadata": {},
     "output_type": "display_data"
    },
    {
     "data": {
      "application/vnd.jupyter.widget-view+json": {
       "model_id": "",
       "version_major": 2,
       "version_minor": 0
      },
      "text/plain": [
       "FloatProgress(value=0.0, bar_style='info', description='Progress:', layout=Layout(height='25px', width='50%'),…"
      ]
     },
     "metadata": {},
     "output_type": "display_data"
    }
   ],
   "source": [
    "def computeRmse(model, data):\n",
    "    \"\"\"\n",
    "    Compute RMSE (Root mean Squared Error).\n",
    "    \"\"\"\n",
    "    prediction = model.transform(data)\n",
    "    rmse = evaluator_seen.evaluate(prediction)\n",
    "    print(\"Root-mean-square error = \" + str(rmse)) \n",
    "    return rmse         "
   ]
  },
  {
   "cell_type": "code",
   "execution_count": 29,
   "id": "1f2ab91a",
   "metadata": {},
   "outputs": [
    {
     "data": {
      "application/vnd.jupyter.widget-view+json": {
       "model_id": "ad164e7272e749068bdb8e7439cdc259",
       "version_major": 2,
       "version_minor": 0
      },
      "text/plain": [
       "VBox()"
      ]
     },
     "metadata": {},
     "output_type": "display_data"
    },
    {
     "data": {
      "application/vnd.jupyter.widget-view+json": {
       "model_id": "",
       "version_major": 2,
       "version_minor": 0
      },
      "text/plain": [
       "FloatProgress(value=0.0, bar_style='info', description='Progress:', layout=Layout(height='25px', width='50%'),…"
      ]
     },
     "metadata": {},
     "output_type": "display_data"
    },
    {
     "name": "stdout",
     "output_type": "stream",
     "text": [
      "Root-mean-square error = 1.411216458241111"
     ]
    }
   ],
   "source": [
    "# Use the evaluator to find the RMSE on the test set. \n",
    "validationRmse = computeRmse(model, test_ratings_all_df)"
   ]
  },
  {
   "cell_type": "markdown",
   "id": "764b67bb",
   "metadata": {},
   "source": [
    "#### Rank based Metrics"
   ]
  },
  {
   "cell_type": "markdown",
   "id": "7182ccde",
   "metadata": {},
   "source": [
    "We will use the lenskit library to calculate the ranking-based matrics. The lenskit library is available in pandas only so we need to convert the data frames from PySpark dataframes to Pandas dataframes. "
   ]
  },
  {
   "cell_type": "code",
   "execution_count": 30,
   "id": "f7901b96",
   "metadata": {},
   "outputs": [
    {
     "data": {
      "application/vnd.jupyter.widget-view+json": {
       "model_id": "3fcffbe552de40bba95484016c280b33",
       "version_major": 2,
       "version_minor": 0
      },
      "text/plain": [
       "VBox()"
      ]
     },
     "metadata": {},
     "output_type": "display_data"
    },
    {
     "data": {
      "application/vnd.jupyter.widget-view+json": {
       "model_id": "",
       "version_major": 2,
       "version_minor": 0
      },
      "text/plain": [
       "FloatProgress(value=0.0, bar_style='info', description='Progress:', layout=Layout(height='25px', width='50%'),…"
      ]
     },
     "metadata": {},
     "output_type": "display_data"
    }
   ],
   "source": [
    "all_recs_als = recommendations.toPandas()"
   ]
  },
  {
   "cell_type": "code",
   "execution_count": 31,
   "id": "07fff20d",
   "metadata": {},
   "outputs": [
    {
     "data": {
      "application/vnd.jupyter.widget-view+json": {
       "model_id": "dd1ea26871fc4885ac21d51f65ed1cb5",
       "version_major": 2,
       "version_minor": 0
      },
      "text/plain": [
       "VBox()"
      ]
     },
     "metadata": {},
     "output_type": "display_data"
    },
    {
     "data": {
      "application/vnd.jupyter.widget-view+json": {
       "model_id": "",
       "version_major": 2,
       "version_minor": 0
      },
      "text/plain": [
       "FloatProgress(value=0.0, bar_style='info', description='Progress:', layout=Layout(height='25px', width='50%'),…"
      ]
     },
     "metadata": {},
     "output_type": "display_data"
    },
    {
     "name": "stdout",
     "output_type": "stream",
     "text": [
      "        user_id  pos  recomended_recipe_id  predicted_rating\n",
      "0          5427    0                346418          5.821311\n",
      "1          5427    1                197397          5.633894\n",
      "2          5427    2                142084          5.632503\n",
      "3          5427    3                173484          5.601570\n",
      "4          5427    4                247044          5.585267\n",
      "...         ...  ...                   ...               ...\n",
      "233615  1881531    5                236802          5.652461\n",
      "233616  1881531    6                203117          5.614207\n",
      "233617  1881531    7                243882          5.612392\n",
      "233618  1881531    8                184566          5.608384\n",
      "233619  1881531    9                333022          5.599547\n",
      "\n",
      "[233620 rows x 4 columns]"
     ]
    }
   ],
   "source": [
    "all_recs_als"
   ]
  },
  {
   "cell_type": "code",
   "execution_count": 32,
   "id": "0a5c1756",
   "metadata": {},
   "outputs": [
    {
     "data": {
      "application/vnd.jupyter.widget-view+json": {
       "model_id": "12d91d60e843492f854f70722160793c",
       "version_major": 2,
       "version_minor": 0
      },
      "text/plain": [
       "VBox()"
      ]
     },
     "metadata": {},
     "output_type": "display_data"
    },
    {
     "data": {
      "application/vnd.jupyter.widget-view+json": {
       "model_id": "",
       "version_major": 2,
       "version_minor": 0
      },
      "text/plain": [
       "FloatProgress(value=0.0, bar_style='info', description='Progress:', layout=Layout(height='25px', width='50%'),…"
      ]
     },
     "metadata": {},
     "output_type": "display_data"
    }
   ],
   "source": [
    "# Rename the columns of to eunsre that they match the columns names as in the cell below. \n",
    "\n",
    "column_names ={\"user_id\":\"user\",\"pos\":\"rank\",\"recomended_recipe_id\":\"item\",\"predicted_rating\":\"score\"} # create a dictionary with current column names as keys and the intended column names as values. \n",
    "all_recs_als = all_recs_als.rename(columns=column_names)"
   ]
  },
  {
   "cell_type": "code",
   "execution_count": 33,
   "id": "1001b9f9",
   "metadata": {},
   "outputs": [
    {
     "data": {
      "application/vnd.jupyter.widget-view+json": {
       "model_id": "3e96670b87f64ded972f9f72507f7046",
       "version_major": 2,
       "version_minor": 0
      },
      "text/plain": [
       "VBox()"
      ]
     },
     "metadata": {},
     "output_type": "display_data"
    },
    {
     "data": {
      "application/vnd.jupyter.widget-view+json": {
       "model_id": "",
       "version_major": 2,
       "version_minor": 0
      },
      "text/plain": [
       "FloatProgress(value=0.0, bar_style='info', description='Progress:', layout=Layout(height='25px', width='50%'),…"
      ]
     },
     "metadata": {},
     "output_type": "display_data"
    },
    {
     "name": "stdout",
     "output_type": "stream",
     "text": [
      "           user  rank    item     score\n",
      "0          5427     0  346418  5.821311\n",
      "1          5427     1  197397  5.633894\n",
      "2          5427     2  142084  5.632503\n",
      "3          5427     3  173484  5.601570\n",
      "4          5427     4  247044  5.585267\n",
      "...         ...   ...     ...       ...\n",
      "233615  1881531     5  236802  5.652461\n",
      "233616  1881531     6  203117  5.614207\n",
      "233617  1881531     7  243882  5.612392\n",
      "233618  1881531     8  184566  5.608384\n",
      "233619  1881531     9  333022  5.599547\n",
      "\n",
      "[233620 rows x 4 columns]"
     ]
    }
   ],
   "source": [
    "all_recs_als"
   ]
  },
  {
   "cell_type": "code",
   "execution_count": 34,
   "id": "887a5607",
   "metadata": {},
   "outputs": [
    {
     "data": {
      "application/vnd.jupyter.widget-view+json": {
       "model_id": "0affe9bb85a44bb183ff89f1a607e49a",
       "version_major": 2,
       "version_minor": 0
      },
      "text/plain": [
       "VBox()"
      ]
     },
     "metadata": {},
     "output_type": "display_data"
    },
    {
     "data": {
      "application/vnd.jupyter.widget-view+json": {
       "model_id": "",
       "version_major": 2,
       "version_minor": 0
      },
      "text/plain": [
       "FloatProgress(value=0.0, bar_style='info', description='Progress:', layout=Layout(height='25px', width='50%'),…"
      ]
     },
     "metadata": {},
     "output_type": "display_data"
    }
   ],
   "source": [
    "# Adding a column to make sure the we know these recommendations are from the ALS algorithm. \n",
    "\n",
    "all_recs_als[\"algorithm\"] = \"ALS\""
   ]
  },
  {
   "cell_type": "code",
   "execution_count": 35,
   "id": "227ed6d4",
   "metadata": {},
   "outputs": [
    {
     "data": {
      "application/vnd.jupyter.widget-view+json": {
       "model_id": "e46d625b748b4c1f84475145445b2b8a",
       "version_major": 2,
       "version_minor": 0
      },
      "text/plain": [
       "VBox()"
      ]
     },
     "metadata": {},
     "output_type": "display_data"
    },
    {
     "data": {
      "application/vnd.jupyter.widget-view+json": {
       "model_id": "",
       "version_major": 2,
       "version_minor": 0
      },
      "text/plain": [
       "FloatProgress(value=0.0, bar_style='info', description='Progress:', layout=Layout(height='25px', width='50%'),…"
      ]
     },
     "metadata": {},
     "output_type": "display_data"
    },
    {
     "name": "stdout",
     "output_type": "stream",
     "text": [
      "           user  rank    item     score algorithm\n",
      "0          5427     0  346418  5.821311       ALS\n",
      "1          5427     1  197397  5.633894       ALS\n",
      "2          5427     2  142084  5.632503       ALS\n",
      "3          5427     3  173484  5.601570       ALS\n",
      "4          5427     4  247044  5.585267       ALS\n",
      "...         ...   ...     ...       ...       ...\n",
      "233615  1881531     5  236802  5.652461       ALS\n",
      "233616  1881531     6  203117  5.614207       ALS\n",
      "233617  1881531     7  243882  5.612392       ALS\n",
      "233618  1881531     8  184566  5.608384       ALS\n",
      "233619  1881531     9  333022  5.599547       ALS\n",
      "\n",
      "[233620 rows x 5 columns]"
     ]
    }
   ],
   "source": [
    "all_recs_als"
   ]
  },
  {
   "cell_type": "code",
   "execution_count": 36,
   "id": "23ddae31",
   "metadata": {},
   "outputs": [
    {
     "data": {
      "application/vnd.jupyter.widget-view+json": {
       "model_id": "58e525a82a574fcf8455f5dee11723c6",
       "version_major": 2,
       "version_minor": 0
      },
      "text/plain": [
       "VBox()"
      ]
     },
     "metadata": {},
     "output_type": "display_data"
    },
    {
     "data": {
      "application/vnd.jupyter.widget-view+json": {
       "model_id": "",
       "version_major": 2,
       "version_minor": 0
      },
      "text/plain": [
       "FloatProgress(value=0.0, bar_style='info', description='Progress:', layout=Layout(height='25px', width='50%'),…"
      ]
     },
     "metadata": {},
     "output_type": "display_data"
    }
   ],
   "source": [
    "# Convert the test dataset to pandas and ensure that it has the same column names as shown in the cell below. \n",
    "# Also, note there are only three columns in the rest data. You have to ensure your test data looks identical. \n",
    "\n",
    "test_data = (test_ratings_all_df.toPandas())# add code to select the necessary columns and change the name of the columns. \n",
    "test_data=test_data.rename(columns={\"user_id\":\"user\",\"recipe_id\":\"item\",\"rating\":\"rating\"})\n",
    "test_data=test_data[[\"user\",\"item\",\"rating\"]]"
   ]
  },
  {
   "cell_type": "code",
   "execution_count": 37,
   "id": "bd3f0ff3",
   "metadata": {},
   "outputs": [
    {
     "data": {
      "application/vnd.jupyter.widget-view+json": {
       "model_id": "7f846ec532234f0fbb106730b23c1faf",
       "version_major": 2,
       "version_minor": 0
      },
      "text/plain": [
       "VBox()"
      ]
     },
     "metadata": {},
     "output_type": "display_data"
    },
    {
     "data": {
      "application/vnd.jupyter.widget-view+json": {
       "model_id": "",
       "version_major": 2,
       "version_minor": 0
      },
      "text/plain": [
       "FloatProgress(value=0.0, bar_style='info', description='Progress:', layout=Layout(height='25px', width='50%'),…"
      ]
     },
     "metadata": {},
     "output_type": "display_data"
    },
    {
     "name": "stdout",
     "output_type": "stream",
     "text": [
      "             user    item  rating\n",
      "0          222564  301798       5\n",
      "1         2894019   31988       5\n",
      "2         1271506   31988       5\n",
      "3          647495   31988       5\n",
      "4           85018   31988       5\n",
      "...           ...     ...     ...\n",
      "18679     1981063   50684       5\n",
      "18680     1765320   50684       5\n",
      "18681  1801745624   50684       5\n",
      "18682     2389315  457576       5\n",
      "18683      440735  457576       4\n",
      "\n",
      "[18684 rows x 3 columns]"
     ]
    }
   ],
   "source": [
    "test_data"
   ]
  },
  {
   "cell_type": "code",
   "execution_count": 38,
   "id": "9347128b",
   "metadata": {},
   "outputs": [
    {
     "data": {
      "application/vnd.jupyter.widget-view+json": {
       "model_id": "ed669e091639425fad5935f854576890",
       "version_major": 2,
       "version_minor": 0
      },
      "text/plain": [
       "VBox()"
      ]
     },
     "metadata": {},
     "output_type": "display_data"
    },
    {
     "data": {
      "application/vnd.jupyter.widget-view+json": {
       "model_id": "",
       "version_major": 2,
       "version_minor": 0
      },
      "text/plain": [
       "FloatProgress(value=0.0, bar_style='info', description='Progress:', layout=Layout(height='25px', width='50%'),…"
      ]
     },
     "metadata": {},
     "output_type": "display_data"
    }
   ],
   "source": [
    "# # code to calculate the necessary metrics \n",
    "# # the code below uses lenskit library to evaluate the rank metrics\n",
    "\n",
    "# rla = topn.RecListAnalysis()\n",
    "# rla.add_metric(topn.recip_rank)\n",
    "# rla.add_metric(topn.ndcg)\n",
    "# rla.add_metric(topn.dcg)\n",
    "# results = rla.compute(all_recs_als, test_data)\n",
    "# results.head()"
   ]
  },
  {
   "cell_type": "markdown",
   "id": "398bb6fb",
   "metadata": {},
   "source": [
    "## Manual Prediction Checking"
   ]
  },
  {
   "cell_type": "markdown",
   "id": "e1f70fd6",
   "metadata": {},
   "source": [
    "1. Why are ndcg and dcg nulls? EG: user 28170"
   ]
  },
  {
   "cell_type": "code",
   "execution_count": 39,
   "id": "edaefb5e",
   "metadata": {},
   "outputs": [
    {
     "data": {
      "application/vnd.jupyter.widget-view+json": {
       "model_id": "ca9d829df307438a9dc33b3941603611",
       "version_major": 2,
       "version_minor": 0
      },
      "text/plain": [
       "VBox()"
      ]
     },
     "metadata": {},
     "output_type": "display_data"
    },
    {
     "data": {
      "application/vnd.jupyter.widget-view+json": {
       "model_id": "",
       "version_major": 2,
       "version_minor": 0
      },
      "text/plain": [
       "FloatProgress(value=0.0, bar_style='info', description='Progress:', layout=Layout(height='25px', width='50%'),…"
      ]
     },
     "metadata": {},
     "output_type": "display_data"
    },
    {
     "name": "stdout",
     "output_type": "stream",
     "text": [
      "Empty DataFrame\n",
      "Columns: [user, item, rating]\n",
      "Index: []"
     ]
    }
   ],
   "source": [
    "test_data[test_data.user == 28170]"
   ]
  },
  {
   "cell_type": "code",
   "execution_count": 40,
   "id": "3cced272",
   "metadata": {},
   "outputs": [
    {
     "data": {
      "application/vnd.jupyter.widget-view+json": {
       "model_id": "3b619cfd96454cd5976c6b7138abf0ce",
       "version_major": 2,
       "version_minor": 0
      },
      "text/plain": [
       "VBox()"
      ]
     },
     "metadata": {},
     "output_type": "display_data"
    },
    {
     "data": {
      "application/vnd.jupyter.widget-view+json": {
       "model_id": "",
       "version_major": 2,
       "version_minor": 0
      },
      "text/plain": [
       "FloatProgress(value=0.0, bar_style='info', description='Progress:', layout=Layout(height='25px', width='50%'),…"
      ]
     },
     "metadata": {},
     "output_type": "display_data"
    },
    {
     "name": "stdout",
     "output_type": "stream",
     "text": [
      "        user  rank    item     score algorithm\n",
      "92440  28170     0  272390  5.915882       ALS\n",
      "92441  28170     1   98791  5.877940       ALS\n",
      "92442  28170     2  302808  5.865075       ALS\n",
      "92443  28170     3  178137  5.796546       ALS\n",
      "92444  28170     4   36802  5.728985       ALS\n",
      "92445  28170     5  257533  5.715683       ALS\n",
      "92446  28170     6  322821  5.695846       ALS\n",
      "92447  28170     7  146694  5.688215       ALS\n",
      "92448  28170     8   16768  5.676943       ALS\n",
      "92449  28170     9  331217  5.674032       ALS"
     ]
    }
   ],
   "source": [
    "all_recs_als[all_recs_als.user == 28170]"
   ]
  },
  {
   "cell_type": "markdown",
   "id": "b3430a12",
   "metadata": {},
   "source": [
    "User ```28170``` does not appear in the test set. Hence cannot be evaluated. "
   ]
  },
  {
   "cell_type": "markdown",
   "id": "14806367",
   "metadata": {},
   "source": [
    "2. Why are all metrics 0 for specific users?"
   ]
  },
  {
   "cell_type": "code",
   "execution_count": 41,
   "id": "b97d8e61",
   "metadata": {},
   "outputs": [
    {
     "data": {
      "application/vnd.jupyter.widget-view+json": {
       "model_id": "3f658bb4b0064091b9d7ac0721c6844f",
       "version_major": 2,
       "version_minor": 0
      },
      "text/plain": [
       "VBox()"
      ]
     },
     "metadata": {},
     "output_type": "display_data"
    },
    {
     "data": {
      "application/vnd.jupyter.widget-view+json": {
       "model_id": "",
       "version_major": 2,
       "version_minor": 0
      },
      "text/plain": [
       "FloatProgress(value=0.0, bar_style='info', description='Progress:', layout=Layout(height='25px', width='50%'),…"
      ]
     },
     "metadata": {},
     "output_type": "display_data"
    },
    {
     "name": "stdout",
     "output_type": "stream",
     "text": [
      "        user    item  rating\n",
      "17647  56680  229831       5"
     ]
    }
   ],
   "source": [
    "test_data[test_data.user == 56680]"
   ]
  },
  {
   "cell_type": "code",
   "execution_count": 42,
   "id": "f7e17e9c",
   "metadata": {},
   "outputs": [
    {
     "data": {
      "application/vnd.jupyter.widget-view+json": {
       "model_id": "492686ee3e5c4d189466ff6a5df605d1",
       "version_major": 2,
       "version_minor": 0
      },
      "text/plain": [
       "VBox()"
      ]
     },
     "metadata": {},
     "output_type": "display_data"
    },
    {
     "data": {
      "application/vnd.jupyter.widget-view+json": {
       "model_id": "",
       "version_major": 2,
       "version_minor": 0
      },
      "text/plain": [
       "FloatProgress(value=0.0, bar_style='info', description='Progress:', layout=Layout(height='25px', width='50%'),…"
      ]
     },
     "metadata": {},
     "output_type": "display_data"
    },
    {
     "name": "stdout",
     "output_type": "stream",
     "text": [
      "      user  rank    item     score algorithm\n",
      "750  56680     0   85238  6.313882       ALS\n",
      "751  56680     1  401773  6.126190       ALS\n",
      "752  56680     2  339583  6.122345       ALS\n",
      "753  56680     3  410035  6.122345       ALS\n",
      "754  56680     4   46802  6.115890       ALS\n",
      "755  56680     5  173484  6.099307       ALS\n",
      "756  56680     6  336380  6.013658       ALS\n",
      "757  56680     7   75776  5.997461       ALS\n",
      "758  56680     8  210216  5.997461       ALS\n",
      "759  56680     9  379283  5.993109       ALS"
     ]
    }
   ],
   "source": [
    "all_recs_als[all_recs_als.user == 56680]"
   ]
  },
  {
   "cell_type": "markdown",
   "id": "4c42f86d",
   "metadata": {},
   "source": [
    "User-recipe combination does not appear in the recommendations set. "
   ]
  },
  {
   "cell_type": "code",
   "execution_count": null,
   "id": "b9c9047b",
   "metadata": {},
   "outputs": [],
   "source": []
  }
 ],
 "metadata": {
  "kernelspec": {
   "display_name": "Python 3 (ipykernel)",
   "language": "python",
   "name": "python3"
  },
  "language_info": {
   "codemirror_mode": {
    "name": "ipython",
    "version": 3
   },
   "file_extension": ".py",
   "mimetype": "text/x-python",
   "name": "python",
   "nbconvert_exporter": "python",
   "pygments_lexer": "ipython3",
   "version": "3.9.12"
  }
 },
 "nbformat": 4,
 "nbformat_minor": 5
}
